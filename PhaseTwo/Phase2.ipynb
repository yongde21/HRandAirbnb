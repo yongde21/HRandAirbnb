{
 "cells": [
  {
   "cell_type": "code",
   "execution_count": 1,
   "metadata": {},
   "outputs": [],
   "source": [
    "# import the required packages\n",
    "\n",
    "import pandas as pd  \n",
    "import numpy as np  \n",
    "from sklearn.model_selection import train_test_split \n",
    "from sklearn.linear_model import LogisticRegression\n",
    "from sklearn.linear_model import LinearRegression\n",
    "from sklearn import metrics\n",
    "from sklearn. ensemble import RandomForestClassifier, BaggingClassifier, AdaBoostClassifier, VotingClassifier, RandomForestRegressor\n",
    "from sklearn import tree\n",
    "from sklearn.metrics import mean_squared_error\n",
    "from sklearn.model_selection import cross_val_score, cross_validate\n",
    "\n",
    "from sklearn.metrics import mean_squared_error\n",
    "from sklearn.model_selection import GridSearchCV, RandomizedSearchCV\n",
    "from sklearn.neural_network import MLPClassifier\n",
    "from sklearn.neural_network import MLPRegressor\n",
    "from sklearn import svm\n",
    "import xgboost as xgb\n",
    "import statsmodels.api as sm\n",
    "import warnings\n",
    "warnings.filterwarnings(\"ignore\")  #used to ignore all warnings\n",
    "import matplotlib.pyplot as plt\n",
    "%matplotlib inline\n",
    "\n",
    "from math import sqrt"
   ]
  },
  {
   "cell_type": "markdown",
   "metadata": {},
   "source": [
    "## 1. HR Analytics"
   ]
  },
  {
   "cell_type": "markdown",
   "metadata": {},
   "source": [
    "### 1.1 Load and Sample the data"
   ]
  },
  {
   "cell_type": "code",
   "execution_count": 20,
   "metadata": {},
   "outputs": [],
   "source": [
    "hr_data = pd.read_csv('hr_data_new.csv')"
   ]
  },
  {
   "cell_type": "code",
   "execution_count": 21,
   "metadata": {},
   "outputs": [
    {
     "data": {
      "text/html": [
       "<div>\n",
       "<style scoped>\n",
       "    .dataframe tbody tr th:only-of-type {\n",
       "        vertical-align: middle;\n",
       "    }\n",
       "\n",
       "    .dataframe tbody tr th {\n",
       "        vertical-align: top;\n",
       "    }\n",
       "\n",
       "    .dataframe thead th {\n",
       "        text-align: right;\n",
       "    }\n",
       "</style>\n",
       "<table border=\"1\" class=\"dataframe\">\n",
       "  <thead>\n",
       "    <tr style=\"text-align: right;\">\n",
       "      <th></th>\n",
       "      <th>department</th>\n",
       "      <th>region</th>\n",
       "      <th>education</th>\n",
       "      <th>gender</th>\n",
       "      <th>recruitment_channel</th>\n",
       "      <th>no_of_trainings</th>\n",
       "      <th>age</th>\n",
       "      <th>previous_year_rating</th>\n",
       "      <th>length_of_service</th>\n",
       "      <th>KPIs_met &gt;80%</th>\n",
       "      <th>awards_won?</th>\n",
       "      <th>avg_training_score</th>\n",
       "      <th>is_promoted</th>\n",
       "    </tr>\n",
       "  </thead>\n",
       "  <tbody>\n",
       "    <tr>\n",
       "      <td>0</td>\n",
       "      <td>1</td>\n",
       "      <td>31</td>\n",
       "      <td>2</td>\n",
       "      <td>2</td>\n",
       "      <td>2</td>\n",
       "      <td>1</td>\n",
       "      <td>35</td>\n",
       "      <td>5.0</td>\n",
       "      <td>3</td>\n",
       "      <td>1</td>\n",
       "      <td>0</td>\n",
       "      <td>50</td>\n",
       "      <td>1</td>\n",
       "    </tr>\n",
       "    <tr>\n",
       "      <td>1</td>\n",
       "      <td>1</td>\n",
       "      <td>20</td>\n",
       "      <td>2</td>\n",
       "      <td>1</td>\n",
       "      <td>2</td>\n",
       "      <td>1</td>\n",
       "      <td>33</td>\n",
       "      <td>5.0</td>\n",
       "      <td>6</td>\n",
       "      <td>1</td>\n",
       "      <td>0</td>\n",
       "      <td>51</td>\n",
       "      <td>1</td>\n",
       "    </tr>\n",
       "    <tr>\n",
       "      <td>2</td>\n",
       "      <td>1</td>\n",
       "      <td>28</td>\n",
       "      <td>3</td>\n",
       "      <td>1</td>\n",
       "      <td>1</td>\n",
       "      <td>1</td>\n",
       "      <td>50</td>\n",
       "      <td>4.0</td>\n",
       "      <td>17</td>\n",
       "      <td>1</td>\n",
       "      <td>0</td>\n",
       "      <td>47</td>\n",
       "      <td>1</td>\n",
       "    </tr>\n",
       "    <tr>\n",
       "      <td>3</td>\n",
       "      <td>5</td>\n",
       "      <td>24</td>\n",
       "      <td>2</td>\n",
       "      <td>1</td>\n",
       "      <td>1</td>\n",
       "      <td>1</td>\n",
       "      <td>30</td>\n",
       "      <td>3.0</td>\n",
       "      <td>7</td>\n",
       "      <td>1</td>\n",
       "      <td>0</td>\n",
       "      <td>84</td>\n",
       "      <td>1</td>\n",
       "    </tr>\n",
       "    <tr>\n",
       "      <td>4</td>\n",
       "      <td>4</td>\n",
       "      <td>14</td>\n",
       "      <td>3</td>\n",
       "      <td>1</td>\n",
       "      <td>1</td>\n",
       "      <td>1</td>\n",
       "      <td>34</td>\n",
       "      <td>5.0</td>\n",
       "      <td>7</td>\n",
       "      <td>1</td>\n",
       "      <td>0</td>\n",
       "      <td>78</td>\n",
       "      <td>1</td>\n",
       "    </tr>\n",
       "  </tbody>\n",
       "</table>\n",
       "</div>"
      ],
      "text/plain": [
       "   department  region  education  gender  recruitment_channel  \\\n",
       "0           1      31          2       2                    2   \n",
       "1           1      20          2       1                    2   \n",
       "2           1      28          3       1                    1   \n",
       "3           5      24          2       1                    1   \n",
       "4           4      14          3       1                    1   \n",
       "\n",
       "   no_of_trainings  age  previous_year_rating  length_of_service  \\\n",
       "0                1   35                   5.0                  3   \n",
       "1                1   33                   5.0                  6   \n",
       "2                1   50                   4.0                 17   \n",
       "3                1   30                   3.0                  7   \n",
       "4                1   34                   5.0                  7   \n",
       "\n",
       "   KPIs_met >80%  awards_won?  avg_training_score  is_promoted  \n",
       "0              1            0                  50            1  \n",
       "1              1            0                  51            1  \n",
       "2              1            0                  47            1  \n",
       "3              1            0                  84            1  \n",
       "4              1            0                  78            1  "
      ]
     },
     "execution_count": 21,
     "metadata": {},
     "output_type": "execute_result"
    }
   ],
   "source": [
    "hr_data.head()"
   ]
  },
  {
   "cell_type": "code",
   "execution_count": 22,
   "metadata": {},
   "outputs": [],
   "source": [
    "#scale data using minmax\n",
    "hr_data[\"region\"] = (hr_data[\"region\"] - hr_data[\"region\"].min()) / (hr_data[\"region\"].max()-hr_data[\"region\"].min())\n",
    "hr_data[\"education\"] = (hr_data[\"education\"] - hr_data[\"education\"].min()) / (hr_data[\"education\"].max()-hr_data[\"education\"].min())\n",
    "hr_data[\"gender\"] = (hr_data[\"gender\"] - hr_data[\"gender\"].min()) / (hr_data[\"gender\"].max()-hr_data[\"gender\"].min())\n",
    "hr_data[\"no_of_trainings\"] = (hr_data[\"no_of_trainings\"] - hr_data[\"no_of_trainings\"].min()) / (hr_data[\"no_of_trainings\"].max()-hr_data[\"no_of_trainings\"].min())\n",
    "hr_data[\"recruitment_channel\"] = (hr_data[\"recruitment_channel\"] - hr_data[\"recruitment_channel\"].min()) / (hr_data[\"recruitment_channel\"].max()-hr_data[\"recruitment_channel\"].min())\n",
    "hr_data[\"department\"] = (hr_data[\"department\"] - hr_data[\"department\"].min()) / (hr_data[\"department\"].max()-hr_data[\"department\"].min())\n",
    "hr_data[\"age\"] = (hr_data[\"age\"] - hr_data[\"age\"].min()) / (hr_data[\"age\"].max()-hr_data[\"age\"].min())\n",
    "hr_data[\"length_of_service\"] = (hr_data[\"length_of_service\"] - hr_data[\"length_of_service\"].min()) / (hr_data[\"length_of_service\"].max()-hr_data[\"length_of_service\"].min())\n",
    "hr_data[\"avg_training_score\"] = (hr_data[\"avg_training_score\"] - hr_data[\"avg_training_score\"].min()) / (hr_data[\"avg_training_score\"].max()-hr_data[\"avg_training_score\"].min())"
   ]
  },
  {
   "cell_type": "code",
   "execution_count": 23,
   "metadata": {},
   "outputs": [],
   "source": [
    "# Define Model Inputs (X) and Output (y)\n",
    "x = hr_data.drop(['is_promoted'], axis =1)\n",
    "y = hr_data[\"is_promoted\"]"
   ]
  },
  {
   "cell_type": "code",
   "execution_count": 24,
   "metadata": {},
   "outputs": [],
   "source": [
    "x_train, x_test, y_train, y_test = train_test_split(x, y, test_size=0.3, random_state = 4)"
   ]
  },
  {
   "cell_type": "markdown",
   "metadata": {},
   "source": [
    "### 1.2 Build the Model(s)"
   ]
  },
  {
   "cell_type": "code",
   "execution_count": 8,
   "metadata": {},
   "outputs": [
    {
     "data": {
      "text/plain": [
       "LogisticRegression(random_state=4)"
      ]
     },
     "execution_count": 8,
     "metadata": {},
     "output_type": "execute_result"
    }
   ],
   "source": [
    "# Create the logistic regression\n",
    "lg = LogisticRegression(random_state = 4)\n",
    "# Fit the model to the training set\n",
    "lg.fit(x_train,y_train)"
   ]
  },
  {
   "cell_type": "code",
   "execution_count": 8,
   "metadata": {},
   "outputs": [
    {
     "data": {
      "text/plain": [
       "DecisionTreeClassifier(random_state=4)"
      ]
     },
     "execution_count": 8,
     "metadata": {},
     "output_type": "execute_result"
    }
   ],
   "source": [
    "#create decision tree\n",
    "dt = tree.DecisionTreeClassifier(random_state = 4)\n",
    "dt.fit(x_train, y_train)"
   ]
  },
  {
   "cell_type": "code",
   "execution_count": 9,
   "metadata": {},
   "outputs": [
    {
     "data": {
      "text/plain": [
       "MLPClassifier(random_state=4)"
      ]
     },
     "execution_count": 9,
     "metadata": {},
     "output_type": "execute_result"
    }
   ],
   "source": [
    "#create ann model\n",
    "mlp = MLPClassifier(random_state = 4)\n",
    "# Fit the model to the training set\n",
    "mlp.fit(x_train,y_train)"
   ]
  },
  {
   "cell_type": "code",
   "execution_count": 10,
   "metadata": {},
   "outputs": [
    {
     "data": {
      "text/plain": [
       "SVC(random_state=4)"
      ]
     },
     "execution_count": 10,
     "metadata": {},
     "output_type": "execute_result"
    }
   ],
   "source": [
    "#create svc model\n",
    "svc = svm.SVC(random_state = 4)\n",
    "svc.fit(x_train,y_train)"
   ]
  },
  {
   "cell_type": "code",
   "execution_count": 11,
   "metadata": {},
   "outputs": [
    {
     "data": {
      "text/plain": [
       "RandomForestClassifier(random_state=4)"
      ]
     },
     "execution_count": 11,
     "metadata": {},
     "output_type": "execute_result"
    }
   ],
   "source": [
    "#create random forest\n",
    "rf = RandomForestClassifier(random_state = 4) \n",
    "rf.fit(x_train,y_train) "
   ]
  },
  {
   "cell_type": "code",
   "execution_count": 12,
   "metadata": {
    "scrolled": true
   },
   "outputs": [
    {
     "data": {
      "text/plain": [
       "XGBClassifier(random_state=4)"
      ]
     },
     "execution_count": 12,
     "metadata": {},
     "output_type": "execute_result"
    }
   ],
   "source": [
    "#create xgboost classifer\n",
    "xgb = xgb.XGBClassifier(random_state = 4)\n",
    "xgb.fit(x_train,y_train)"
   ]
  },
  {
   "cell_type": "markdown",
   "metadata": {},
   "source": [
    "### 1.3 Evaluate and Improve the Model(s)"
   ]
  },
  {
   "cell_type": "code",
   "execution_count": 13,
   "metadata": {},
   "outputs": [
    {
     "name": "stdout",
     "output_type": "stream",
     "text": [
      "train_score:  [0.74473    0.7438637  0.74357494 0.74519994 0.75054136]\n",
      "test_score:  [0.74249423 0.75577367 0.7517321  0.74119006 0.72963605]\n",
      "cross val training accuracy is: 0.7455819884117195\n",
      "cross val testing accuracy is: 0.7441652224147892\n"
     ]
    }
   ],
   "source": [
    "#evaluate all models using k folds cross validation because it is more accurate.\n",
    "\n",
    "lg_results  = cross_validate(lg, x, y, scoring='accuracy', cv=5, return_train_score = True)\n",
    "print('train_score: ', lg_results['train_score'])\n",
    "print('test_score: ', lg_results['test_score'])\n",
    "\n",
    "print('cross val training accuracy is:', sum(lg_results['train_score'])/len(lg_results['train_score']))\n",
    "print('cross val testing accuracy is:', sum(lg_results['test_score'])/len(lg_results['test_score']))"
   ]
  },
  {
   "cell_type": "code",
   "execution_count": 14,
   "metadata": {
    "scrolled": true
   },
   "outputs": [
    {
     "name": "stdout",
     "output_type": "stream",
     "text": [
      "train_score:  [0.99985562 1.         1.         0.99985564 0.99985564]\n",
      "test_score:  [0.75923788 0.77136259 0.77482679 0.7700751  0.75447718]\n",
      "cross val training accuracy is: 0.9999133782479145\n",
      "cross val testing accuracy is: 0.7659959067300137\n"
     ]
    }
   ],
   "source": [
    "dt_results  = cross_validate(dt, x, y, scoring='accuracy', cv=5, return_train_score = True)\n",
    "print('train_score: ', dt_results['train_score'])\n",
    "print('test_score: ', dt_results['test_score'])\n",
    "\n",
    "print('cross val training accuracy is:', sum(dt_results['train_score'])/len(dt_results['train_score']))\n",
    "print('cross val testing accuracy is:', sum(dt_results['test_score'])/len(dt_results['test_score']))"
   ]
  },
  {
   "cell_type": "code",
   "execution_count": 15,
   "metadata": {},
   "outputs": [
    {
     "name": "stdout",
     "output_type": "stream",
     "text": [
      "train_score:  [0.8208201  0.81648859 0.81706613 0.8195467  0.82445503]\n",
      "test_score:  [0.80542725 0.8204388  0.8221709  0.80993645 0.78856153]\n",
      "cross val training accuracy is: 0.8196753103744628\n",
      "cross val testing accuracy is: 0.8093069859097053\n"
     ]
    }
   ],
   "source": [
    "mlp_results  = cross_validate(mlp, x, y, scoring='accuracy', cv=5, return_train_score = True)\n",
    "print('train_score: ', mlp_results['train_score'])\n",
    "print('test_score: ', mlp_results['test_score'])\n",
    "\n",
    "print('cross val training accuracy is:', sum(mlp_results['train_score'])/len(mlp_results['train_score']))\n",
    "print('cross val testing accuracy is:', sum(mlp_results['test_score'])/len(mlp_results['test_score']))"
   ]
  },
  {
   "cell_type": "code",
   "execution_count": 16,
   "metadata": {},
   "outputs": [
    {
     "name": "stdout",
     "output_type": "stream",
     "text": [
      "train_score:  [0.75931273 0.75656945 0.75628068 0.75516096 0.76295655]\n",
      "test_score:  [0.74942263 0.76212471 0.75981524 0.76083189 0.74696707]\n",
      "cross val training accuracy is: 0.7580560751512795\n",
      "cross val testing accuracy is: 0.7558323093487458\n"
     ]
    }
   ],
   "source": [
    "svc_results  = cross_validate(svc, x, y, scoring='accuracy', cv=5, return_train_score = True)\n",
    "print('train_score: ', svc_results['train_score'])\n",
    "print('test_score: ', svc_results['test_score'])\n",
    "\n",
    "print('cross val training accuracy is:', sum(svc_results['train_score'])/len(svc_results['train_score']))\n",
    "print('cross val testing accuracy is:', sum(svc_results['test_score'])/len(svc_results['test_score']))"
   ]
  },
  {
   "cell_type": "code",
   "execution_count": 17,
   "metadata": {},
   "outputs": [
    {
     "name": "stdout",
     "output_type": "stream",
     "text": [
      "train_score:  [0.99985562 1.         1.         0.99985564 0.99985564]\n",
      "test_score:  [0.80311778 0.81581986 0.80889145 0.80647025 0.77758521]\n",
      "cross val training accuracy is: 0.9999133782479145\n",
      "cross val testing accuracy is: 0.8023769117158513\n"
     ]
    }
   ],
   "source": [
    "rf_results  = cross_validate(rf, x, y, scoring='accuracy', cv=5, return_train_score = True)\n",
    "print('train_score: ', rf_results['train_score'])\n",
    "print('test_score: ', rf_results['test_score'])\n",
    "\n",
    "print('cross val training accuracy is:', sum(rf_results['train_score'])/len(rf_results['train_score']))\n",
    "print('cross val testing accuracy is:', sum(rf_results['test_score'])/len(rf_results['test_score']))"
   ]
  },
  {
   "cell_type": "code",
   "execution_count": 18,
   "metadata": {},
   "outputs": [
    {
     "name": "stdout",
     "output_type": "stream",
     "text": [
      "train_score:  [0.82038695 0.81793243 0.81778805 0.81969106 0.82662047]\n",
      "test_score:  [0.81177829 0.81293303 0.8204388  0.82149047 0.78625072]\n",
      "cross val training accuracy is: 0.8204837911771709\n",
      "cross val testing accuracy is: 0.8105782611073975\n"
     ]
    }
   ],
   "source": [
    "xgb_results  = cross_validate(xgb, x, y, scoring='accuracy', cv=5, return_train_score = True)\n",
    "print('train_score: ', xgb_results['train_score'])\n",
    "print('test_score: ', xgb_results['test_score'])\n",
    "\n",
    "print('cross val training accuracy is:', sum(xgb_results['train_score'])/len(xgb_results['train_score']))\n",
    "print('cross val testing accuracy is:', sum(xgb_results['test_score'])/len(xgb_results['test_score']))"
   ]
  },
  {
   "cell_type": "markdown",
   "metadata": {},
   "source": [
    "### First Model: Random Forest Classifier"
   ]
  },
  {
   "cell_type": "code",
   "execution_count": 35,
   "metadata": {},
   "outputs": [
    {
     "name": "stdout",
     "output_type": "stream",
     "text": [
      "0.8067663700780363\n",
      "{'criterion': 'entropy', 'max_depth': 17, 'max_features': 'auto', 'min_samples_leaf': 3, 'min_samples_split': 2, 'n_estimators': 100}\n"
     ]
    }
   ],
   "source": [
    "#start with random forest classifier.\n",
    "rf_new = RandomForestClassifier(random_state=4, n_jobs=-1)\n",
    "param_grid = { \n",
    " \"criterion\" : ['gini', 'entropy'],\n",
    " \"max_features\": [\"auto\", 'sqrt', 'log2'],\n",
    " \"max_depth\": [8, 13, 15, 17],   #measures the depth of each tree, higher means more complex.\n",
    " \"min_samples_leaf\" : [3, 5, 7], \n",
    " \"min_samples_split\" : [2, 4, 6], \n",
    " \"n_estimators\": [10, 20, 50, 100]}  #number of trees in the model.\n",
    "rf_gs = GridSearchCV(estimator=rf_new, param_grid=param_grid, scoring='accuracy', cv=5, n_jobs=-1)\n",
    "rf_gs = rf_gs.fit(x, y)\n",
    "print(rf_gs.best_score_)\n",
    "print(rf_gs.best_params_)"
   ]
  },
  {
   "cell_type": "code",
   "execution_count": 36,
   "metadata": {},
   "outputs": [
    {
     "name": "stdout",
     "output_type": "stream",
     "text": [
      "***Final Model***\n",
      "training acc:  0.898019801980198\n",
      "testing acc:  0.8102386451116244\n",
      "cross val training accuracy is: 0.8966563144939463\n",
      "cross val testing accuracy is: 0.8067663700780363\n"
     ]
    }
   ],
   "source": [
    "rf_final = RandomForestClassifier(criterion='entropy', \n",
    "                             n_estimators=100,\n",
    "                             max_depth=17,\n",
    "                             min_samples_leaf = 3,\n",
    "                             min_samples_split = 2,\n",
    "                             max_features='auto',                             \n",
    "                             random_state=4,\n",
    "                             n_jobs=-1)\n",
    "\n",
    "rf_final.fit(x_train,y_train)\n",
    "\n",
    "print('***Final Model***')\n",
    "print('training acc: ', rf_final.score(x_train,y_train))\n",
    "print('testing acc: ', rf_final.score(x_test,y_test))\n",
    "results  = cross_validate(rf_final, x, y, scoring='accuracy', cv=5, return_train_score = True)\n",
    "print('cross val training accuracy is:', sum(results['train_score'])/len(results['train_score']))\n",
    "print('cross val testing accuracy is:', sum(results['test_score'])/len(results['test_score']))"
   ]
  },
  {
   "cell_type": "code",
   "execution_count": 40,
   "metadata": {},
   "outputs": [],
   "source": [
    "leaf_range = range(3, 25)\n",
    "train_acc = []\n",
    "test_acc = []\n",
    "cross_val_train_acc =[]\n",
    "cross_val_test_acc =[]\n",
    "\n",
    "for d in leaf_range:\n",
    "    # Create Random Forest Model\n",
    "    rf_reg = RandomForestClassifier(criterion='entropy', n_estimators=100, random_state=4, min_samples_leaf = d,\n",
    "                             min_samples_split = 2,\n",
    "                             max_features='auto',   \n",
    "                                    max_depth=17)\n",
    "    rf_reg.fit(x_train, y_train) \n",
    "    train_acc.append((rf_reg.predict(x_train), y_train))\n",
    "    test_acc.append((rf_reg.predict(x_test), y_test))\n",
    "    \n",
    "    results  = cross_validate(rf_reg, x, y, scoring='accuracy', cv=5, return_train_score = True)\n",
    "    cross_val_train_acc.append(sum(results['train_score'])/len(results['train_score']))\n",
    "    cross_val_test_acc.append(sum(results['test_score'])/len(results['test_score']))\n",
    "\n"
   ]
  },
  {
   "cell_type": "code",
   "execution_count": 41,
   "metadata": {},
   "outputs": [
    {
     "data": {
      "image/png": "[encoded data removed]",
      "text/plain": [
       "<Figure size 432x288 with 1 Axes>"
      ]
     },
     "metadata": {
      "needs_background": "light"
     },
     "output_type": "display_data"
    }
   ],
   "source": [
    "#from this chart, you can see that as the min_samples_leaf value increases, the model actually gets less overfit\n",
    "#however, as the value increases, the testing accuracy decreases slightly as well.\n",
    "#after analyzing this chart, i found that 16 is the best value for the model \n",
    "#because it is one highest point and the model is not overfitted(not more than 2-3%)\n",
    "plt.plot(leaf_range, cross_val_train_acc, 'bo-', label ='cross val training accuracy')\n",
    "plt.plot(leaf_range, cross_val_test_acc, 'ro-', label = 'cross val testing accuracy')\n",
    "\n",
    "plt.xlabel('min_samples_leaf', fontsize='x-large')\n",
    "plt.ylabel('accuracy', fontsize='x-large')\n",
    "\n",
    "plt.legend(loc=(1.02,0), shadow=True, fontsize='x-large')\n",
    "plt.show()"
   ]
  },
  {
   "cell_type": "code",
   "execution_count": 39,
   "metadata": {},
   "outputs": [
    {
     "name": "stdout",
     "output_type": "stream",
     "text": [
      "***Final Model***\n",
      "training acc:  0.813036303630363\n",
      "testing acc:  0.8071593533487298\n",
      "cross val training accuracy is: 0.8172499930278223\n",
      "cross val testing accuracy is: 0.8001826494984143\n"
     ]
    }
   ],
   "source": [
    "#shows that less overfitted after i increased the min_samples_leaf\n",
    "rf_final = RandomForestClassifier(criterion='entropy', \n",
    "                             n_estimators=100,\n",
    "                             max_depth=17,\n",
    "                             min_samples_leaf = 16,\n",
    "                             min_samples_split = 2,\n",
    "                             max_features='auto',                             \n",
    "                             random_state=4,\n",
    "                             n_jobs=-1)\n",
    "\n",
    "rf_final.fit(x_train,y_train)\n",
    "\n",
    "print('***Final Model***')\n",
    "print('training acc: ', rf_final.score(x_train,y_train))\n",
    "print('testing acc: ', rf_final.score(x_test,y_test))\n",
    "results  = cross_validate(rf_final, x, y, scoring='accuracy', cv=5, return_train_score = True)\n",
    "print('cross val training accuracy is:', sum(results['train_score'])/len(results['train_score']))\n",
    "print('cross val testing accuracy is:', sum(results['test_score'])/len(results['test_score']))"
   ]
  },
  {
   "cell_type": "code",
   "execution_count": 22,
   "metadata": {},
   "outputs": [],
   "source": [
    "split_range = range(2, 25)\n",
    "train_acc = []\n",
    "test_acc = []\n",
    "cross_val_train_acc =[]\n",
    "cross_val_test_acc =[]\n",
    "\n",
    "for d in split_range:\n",
    "    # Create Random Forest Model\n",
    "    rf_reg = RandomForestClassifier(criterion='entropy', n_estimators=100, random_state=4, min_samples_leaf = 10,\n",
    "                             min_samples_split = d,\n",
    "                             max_features='auto',   \n",
    "                                    max_depth=17)\n",
    "    rf_reg.fit(x_train, y_train) \n",
    "    train_acc.append((rf_reg.predict(x_train), y_train))\n",
    "    test_acc.append((rf_reg.predict(x_test), y_test))\n",
    "    \n",
    "    results  = cross_validate(rf_reg, x, y, scoring='accuracy', cv=5, return_train_score = True)\n",
    "    cross_val_train_acc.append(sum(results['train_score'])/len(results['train_score']))\n",
    "    cross_val_test_acc.append(sum(results['test_score'])/len(results['test_score']))\n",
    "\n"
   ]
  },
  {
   "cell_type": "code",
   "execution_count": 23,
   "metadata": {
    "scrolled": true
   },
   "outputs": [
    {
     "data": {
      "image/png": "[encoded data removed]",
      "text/plain": [
       "<Figure size 432x288 with 1 Axes>"
      ]
     },
     "metadata": {
      "needs_background": "light"
     },
     "output_type": "display_data"
    }
   ],
   "source": [
    "plt.plot(split_range, cross_val_train_acc, 'bo-', label ='cross val training accuracy')\n",
    "plt.plot(split_range, cross_val_test_acc, 'ro-', label = 'cross val testing accuracy')\n",
    "\n",
    "plt.xlabel('min_samples_split', fontsize='x-large')\n",
    "plt.ylabel('accuracy', fontsize='x-large')\n",
    "\n",
    "plt.legend(loc=(1.02,0), shadow=True, fontsize='x-large')\n",
    "plt.show()"
   ]
  },
  {
   "cell_type": "code",
   "execution_count": 29,
   "metadata": {},
   "outputs": [],
   "source": [
    "estimator_range = range(100,500,100)\n",
    "train_acc = []\n",
    "test_acc = []\n",
    "cross_val_train_acc =[]\n",
    "cross_val_test_acc =[]\n",
    "\n",
    "for d in estimator_range:\n",
    "    # Create Random Forest Model\n",
    "    rf_reg = RandomForestClassifier(criterion='entropy', n_estimators=d, random_state=4, min_samples_leaf = 16,\n",
    "                             min_samples_split = 2,\n",
    "                             max_features='auto',   \n",
    "                                    max_depth=17)\n",
    "    rf_reg.fit(x_train, y_train) \n",
    "    train_acc.append((rf_reg.predict(x_train), y_train))\n",
    "    test_acc.append((rf_reg.predict(x_test), y_test))\n",
    "    \n",
    "    results  = cross_validate(rf_reg, x, y, scoring='accuracy', cv=5, return_train_score = True)\n",
    "    cross_val_train_acc.append(sum(results['train_score'])/len(results['train_score']))\n",
    "    cross_val_test_acc.append(sum(results['test_score'])/len(results['test_score']))\n",
    "\n"
   ]
  },
  {
   "cell_type": "code",
   "execution_count": 30,
   "metadata": {},
   "outputs": [
    {
     "data": {
      "image/png": "[encoded data removed]",
      "text/plain": [
       "<Figure size 432x288 with 1 Axes>"
      ]
     },
     "metadata": {
      "needs_background": "light"
     },
     "output_type": "display_data"
    }
   ],
   "source": [
    "plt.plot(estimator_range, cross_val_train_acc, 'bo-', label ='cross val training accuracy')\n",
    "plt.plot(estimator_range, cross_val_test_acc, 'ro-', label = 'cross val testing accuracy')\n",
    "\n",
    "plt.xlabel('n_estimators', fontsize='x-large')\n",
    "plt.ylabel('accuracy', fontsize='x-large')\n",
    "\n",
    "plt.legend(loc=(1.02,0), shadow=True, fontsize='x-large')\n",
    "plt.show()"
   ]
  },
  {
   "cell_type": "code",
   "execution_count": 16,
   "metadata": {},
   "outputs": [
    {
     "name": "stdout",
     "output_type": "stream",
     "text": [
      "***Final Model***\n",
      "training acc:  0.8100660066006601\n",
      "testing acc:  0.8025404157043879\n",
      "cross val training accuracy is: 0.8168746043106776\n",
      "cross val testing accuracy is: 0.8005292699490208\n"
     ]
    }
   ],
   "source": [
    "rf_final = RandomForestClassifier(criterion='entropy', \n",
    "                             n_estimators=300,\n",
    "                             max_depth=17,\n",
    "                             min_samples_leaf = 16,\n",
    "                             min_samples_split = 2,\n",
    "                             max_features='auto',                             \n",
    "                             random_state=4,\n",
    "                             n_jobs=-1)\n",
    "\n",
    "rf_final.fit(x_train,y_train)\n",
    "\n",
    "print('***Final Model***')\n",
    "print('training acc: ', rf_final.score(x_train,y_train))\n",
    "print('testing acc: ', rf_final.score(x_test,y_test))\n",
    "results  = cross_validate(rf_final, x, y, scoring='accuracy', cv=5, return_train_score = True)\n",
    "print('cross val training accuracy is:', sum(results['train_score'])/len(results['train_score']))\n",
    "print('cross val testing accuracy is:', sum(results['test_score'])/len(results['test_score']))"
   ]
  },
  {
   "cell_type": "code",
   "execution_count": 22,
   "metadata": {},
   "outputs": [],
   "source": [
    "depth_range = range(10,25)\n",
    "train_acc = []\n",
    "test_acc = []\n",
    "cross_val_train_acc =[]\n",
    "cross_val_test_acc =[]\n",
    "\n",
    "for d in depth_range:\n",
    "    # Create Random Forest Model\n",
    "    rf_reg = RandomForestClassifier(criterion='entropy', n_estimators=300, random_state=4, min_samples_leaf = 16,\n",
    "                             min_samples_split = 2,\n",
    "                             max_features='auto',   \n",
    "                                    max_depth=d)\n",
    "    rf_reg.fit(x_train, y_train) \n",
    "    train_acc.append((rf_reg.predict(x_train), y_train))\n",
    "    test_acc.append((rf_reg.predict(x_test), y_test))\n",
    "    \n",
    "    results  = cross_validate(rf_reg, x, y, scoring='accuracy', cv=5, return_train_score = True)\n",
    "    cross_val_train_acc.append(sum(results['train_score'])/len(results['train_score']))\n",
    "    cross_val_test_acc.append(sum(results['test_score'])/len(results['test_score']))\n",
    "\n"
   ]
  },
  {
   "cell_type": "code",
   "execution_count": 23,
   "metadata": {},
   "outputs": [
    {
     "data": {
      "image/png": "[encoded data removed]",
      "text/plain": [
       "<Figure size 432x288 with 1 Axes>"
      ]
     },
     "metadata": {
      "needs_background": "light"
     },
     "output_type": "display_data"
    }
   ],
   "source": [
    "plt.plot(depth_range, cross_val_train_acc, 'bo-', label ='cross val training accuracy')\n",
    "plt.plot(depth_range, cross_val_test_acc, 'ro-', label = 'cross val testing accuracy')\n",
    "\n",
    "plt.xlabel('max_depth', fontsize='x-large')\n",
    "plt.ylabel('accuracy', fontsize='x-large')\n",
    "\n",
    "plt.legend(loc=(1.02,0), shadow=True, fontsize='x-large')\n",
    "plt.show()"
   ]
  },
  {
   "cell_type": "code",
   "execution_count": 24,
   "metadata": {},
   "outputs": [
    {
     "name": "stdout",
     "output_type": "stream",
     "text": [
      "***Final Model***\n",
      "training acc:  0.8094059405940595\n",
      "testing acc:  0.8036951501154734\n",
      "cross val training accuracy is: 0.8161238268763882\n",
      "cross val testing accuracy is: 0.8012219771774849\n"
     ]
    }
   ],
   "source": [
    "rf_final = RandomForestClassifier(criterion='entropy', \n",
    "                             n_estimators=300,\n",
    "                             max_depth=16,\n",
    "                             min_samples_leaf = 16,\n",
    "                             min_samples_split = 2,\n",
    "                             max_features='auto',                             \n",
    "                             random_state=4,\n",
    "                             n_jobs=-1)\n",
    "\n",
    "rf_final.fit(x_train,y_train)\n",
    "\n",
    "print('***Final Model***')\n",
    "print('training acc: ', rf_final.score(x_train,y_train))\n",
    "print('testing acc: ', rf_final.score(x_test,y_test))\n",
    "results  = cross_validate(rf_final, x, y, scoring='accuracy', cv=5, return_train_score = True)\n",
    "print('cross val training accuracy is:', sum(results['train_score'])/len(results['train_score']))\n",
    "print('cross val testing accuracy is:', sum(results['test_score'])/len(results['test_score']))"
   ]
  },
  {
   "cell_type": "markdown",
   "metadata": {},
   "source": [
    "### Second Model: XGBoost Classifier"
   ]
  },
  {
   "cell_type": "code",
   "execution_count": 36,
   "metadata": {},
   "outputs": [
    {
     "name": "stdout",
     "output_type": "stream",
     "text": [
      "0.8206274523930552\n",
      "{'colsample_bytree': 0.9, 'gamma': 0.3, 'learning_rate': 0.3, 'max_depth': 3, 'min_child_weight ': 0.5, 'subsample': 0.9}\n"
     ]
    }
   ],
   "source": [
    "xgb_new = xgb.XGBClassifier(random_state=4, n_jobs=-1)\n",
    "param_grid = {\n",
    "    \"max_depth\": [3, 5, 7], \n",
    "    \"learning_rate\": [0.1, 0.3, 0.5], \n",
    "    \"gamma\": [0, 0.1, 0.3], \n",
    "    \"min_child_weight \": [0.5, 1, 2], \n",
    "    \"subsample\": [0.6, 0.7, 0.9],\n",
    "    \"colsample_bytree\": [0.6, 0.7, 0.9],\n",
    "}\n",
    "xgb_gs = GridSearchCV(estimator=xgb_new, param_grid=param_grid, scoring='accuracy', cv=5, n_jobs=-1)\n",
    "xgb_gs = xgb_gs.fit(x, y)\n",
    "print(xgb_gs.best_score_)\n",
    "print(xgb_gs.best_params_)"
   ]
  },
  {
   "cell_type": "code",
   "execution_count": 25,
   "metadata": {},
   "outputs": [
    {
     "name": "stdout",
     "output_type": "stream",
     "text": [
      "***Final Model***\n",
      "training acc:  0.8567656765676568\n",
      "testing acc:  0.8229407236335643\n",
      "cross val training accuracy is: 0.8514379006579109\n",
      "cross val testing accuracy is: 0.8161228541352299\n"
     ]
    }
   ],
   "source": [
    "xgb_final = xgb.XGBClassifier(  \n",
    "    colsample_bytree= 0.9,\n",
    "    max_depth = 3,\n",
    "    gamma = 0.3,\n",
    "    learning_rate = 0.3,\n",
    "    min_child_weight = 0.5,\n",
    "    subsample=0.9,\n",
    "    random_state=4,\n",
    "    n_jobs=-1\n",
    ")\n",
    "\n",
    "xgb_final.fit(x_train,y_train)\n",
    "\n",
    "print('***Final Model***')\n",
    "print('training acc: ', xgb_final.score(x_train,y_train))\n",
    "print('testing acc: ', xgb_final.score(x_test,y_test))\n",
    "results  = cross_validate(xgb_final, x, y, scoring='accuracy', cv=5, return_train_score = True)\n",
    "print('cross val training accuracy is:', sum(results['train_score'])/len(results['train_score']))\n",
    "print('cross val testing accuracy is:', sum(results['test_score'])/len(results['test_score']))"
   ]
  },
  {
   "cell_type": "code",
   "execution_count": 16,
   "metadata": {},
   "outputs": [],
   "source": [
    "learning_range = [i/10.0 for i in range(0,5)]\n",
    "train_acc = []\n",
    "test_acc = []\n",
    "cross_val_train_acc =[]\n",
    "cross_val_test_acc =[]\n",
    "\n",
    "for d in learning_range:\n",
    "    # Create Random Forest Model\n",
    "    xgb_tune = xgb.XGBClassifier(  \n",
    "    colsample_bytree= 0.9,\n",
    "    max_depth = 3,\n",
    "    gamma = 0.3,\n",
    "    learning_rate = d,\n",
    "    min_child_weight = 0.5,\n",
    "    subsample=0.9,\n",
    "        random_state=4,\n",
    "    n_jobs=-1)\n",
    "    \n",
    "    xgb_tune.fit(x_train, y_train) \n",
    "    train_acc.append((xgb_tune.predict(x_train), y_train))\n",
    "    test_acc.append((xgb_tune.predict(x_test), y_test))\n",
    "    \n",
    "    results  = cross_validate(xgb_tune, x, y, scoring='accuracy', cv=5, return_train_score = True)\n",
    "    cross_val_train_acc.append(sum(results['train_score'])/len(results['train_score']))\n",
    "    cross_val_test_acc.append(sum(results['test_score'])/len(results['test_score']))\n",
    "\n"
   ]
  },
  {
   "cell_type": "code",
   "execution_count": 17,
   "metadata": {},
   "outputs": [
    {
     "data": {
      "image/png": "[encoded data removed]",
      "text/plain": [
       "<Figure size 432x288 with 1 Axes>"
      ]
     },
     "metadata": {
      "needs_background": "light"
     },
     "output_type": "display_data"
    }
   ],
   "source": [
    "plt.plot(learning_range, cross_val_train_acc, 'bo-', label ='cross val training accuracy')\n",
    "plt.plot(learning_range, cross_val_test_acc, 'ro-', label = 'cross val testing accuracy')\n",
    "\n",
    "plt.xlabel('learning_rate', fontsize='x-large')\n",
    "plt.ylabel('accuracy', fontsize='x-large')\n",
    "\n",
    "plt.legend(loc=(1.02,0), shadow=True, fontsize='x-large')\n",
    "plt.show()"
   ]
  },
  {
   "cell_type": "code",
   "execution_count": 40,
   "metadata": {},
   "outputs": [
    {
     "name": "stdout",
     "output_type": "stream",
     "text": [
      "***Final Model***\n",
      "training acc:  0.8414191419141914\n",
      "testing acc:  0.8210161662817552\n",
      "cross val training accuracy is: 0.8408985859339765\n",
      "cross val testing accuracy is: 0.8180863695977308\n"
     ]
    }
   ],
   "source": [
    "xgb_final = xgb.XGBClassifier(  \n",
    "    colsample_bytree= 0.9,\n",
    "    max_depth = 3,\n",
    "    gamma = 0.3,\n",
    "    learning_rate = 0.2,\n",
    "    min_child_weight = 0.5,\n",
    "    subsample=0.9,\n",
    "    random_state=4,\n",
    "    n_jobs=-1\n",
    ")\n",
    "\n",
    "xgb_final.fit(x_train,y_train)\n",
    "\n",
    "print('***Final Model***')\n",
    "print('training acc: ', xgb_final.score(x_train,y_train))\n",
    "print('testing acc: ', xgb_final.score(x_test,y_test))\n",
    "results  = cross_validate(xgb_final, x, y, scoring='accuracy', cv=5, return_train_score = True)\n",
    "print('cross val training accuracy is:', sum(results['train_score'])/len(results['train_score']))\n",
    "print('cross val testing accuracy is:', sum(results['test_score'])/len(results['test_score']))"
   ]
  },
  {
   "cell_type": "code",
   "execution_count": 43,
   "metadata": {},
   "outputs": [],
   "source": [
    "weight_range = range(1, 20)\n",
    "train_acc = []\n",
    "test_acc = []\n",
    "cross_val_train_acc =[]\n",
    "cross_val_test_acc =[]\n",
    "\n",
    "for d in weight_range:\n",
    "    # Create Random Forest Model\n",
    "    xgb_tune = xgb.XGBClassifier(  \n",
    "    colsample_bytree= 0.9,\n",
    "    max_depth = 3,\n",
    "    gamma = 0.3,\n",
    "    learning_rate = 0.2,\n",
    "    min_child_weight = d,\n",
    "    subsample=0.9,\n",
    "    random_state=4,\n",
    "    n_jobs=-1)\n",
    "    \n",
    "    xgb_tune.fit(x_train, y_train) \n",
    "    train_acc.append((xgb_tune.predict(x_train), y_train))\n",
    "    test_acc.append((xgb_tune.predict(x_test), y_test))\n",
    "    \n",
    "    results  = cross_validate(xgb_tune, x, y, scoring='accuracy', cv=5, return_train_score = True)\n",
    "    cross_val_train_acc.append(sum(results['train_score'])/len(results['train_score']))\n",
    "    cross_val_test_acc.append(sum(results['test_score'])/len(results['test_score']))\n",
    "\n"
   ]
  },
  {
   "cell_type": "code",
   "execution_count": 44,
   "metadata": {},
   "outputs": [
    {
     "data": {
      "image/png": "[encoded data removed]",
      "text/plain": [
       "<Figure size 432x288 with 1 Axes>"
      ]
     },
     "metadata": {
      "needs_background": "light"
     },
     "output_type": "display_data"
    }
   ],
   "source": [
    "plt.plot(weight_range, cross_val_train_acc, 'bo-', label ='cross val training accuracy')\n",
    "plt.plot(weight_range, cross_val_test_acc, 'ro-', label = 'cross val testing accuracy')\n",
    "\n",
    "plt.xlabel('min_child_weight', fontsize='x-large')\n",
    "plt.ylabel('accuracy', fontsize='x-large')\n",
    "\n",
    "plt.legend(loc=(1.02,0), shadow=True, fontsize='x-large')\n",
    "plt.show()"
   ]
  },
  {
   "cell_type": "code",
   "execution_count": 45,
   "metadata": {},
   "outputs": [
    {
     "name": "stdout",
     "output_type": "stream",
     "text": [
      "***Final Model***\n",
      "training acc:  0.8374587458745875\n",
      "testing acc:  0.8210161662817552\n",
      "cross val training accuracy is: 0.8376355859282654\n",
      "cross val testing accuracy is: 0.8203966389290255\n"
     ]
    }
   ],
   "source": [
    "xgb_final = xgb.XGBClassifier(  \n",
    "    colsample_bytree= 0.9,\n",
    "    max_depth = 3,\n",
    "    gamma = 0.3,\n",
    "    learning_rate = 0.2,\n",
    "    min_child_weight = 10,\n",
    "    subsample=0.9,\n",
    "    random_state=4,\n",
    "    n_jobs=-1\n",
    ")\n",
    "\n",
    "xgb_final.fit(x_train,y_train)\n",
    "\n",
    "print('***Final Model***')\n",
    "print('training acc: ', xgb_final.score(x_train,y_train))\n",
    "print('testing acc: ', xgb_final.score(x_test,y_test))\n",
    "results  = cross_validate(xgb_final, x, y, scoring='accuracy', cv=5, return_train_score = True)\n",
    "print('cross val training accuracy is:', sum(results['train_score'])/len(results['train_score']))\n",
    "print('cross val testing accuracy is:', sum(results['test_score'])/len(results['test_score']))"
   ]
  },
  {
   "cell_type": "code",
   "execution_count": 46,
   "metadata": {},
   "outputs": [],
   "source": [
    " depth_range = range(1, 10)\n",
    "train_acc = []\n",
    "test_acc = []\n",
    "cross_val_train_acc =[]\n",
    "cross_val_test_acc =[]\n",
    "\n",
    "for d in depth_range:\n",
    "    # Create Random Forest Model\n",
    "    xgb_tune = xgb.XGBClassifier(  \n",
    "    colsample_bytree= 0.9,\n",
    "    max_depth = d,\n",
    "    gamma = 0.3,\n",
    "    learning_rate = 0.2,\n",
    "    min_child_weight = 10,\n",
    "    subsample=0.9,\n",
    "    random_state=4,\n",
    "    n_jobs=-1)\n",
    "    \n",
    "    xgb_tune.fit(x_train, y_train) \n",
    "    train_acc.append((xgb_tune.predict(x_train), y_train))\n",
    "    test_acc.append((xgb_tune.predict(x_test), y_test))\n",
    "    \n",
    "    results  = cross_validate(xgb_tune, x, y, scoring='accuracy', cv=5, return_train_score = True)\n",
    "    cross_val_train_acc.append(sum(results['train_score'])/len(results['train_score']))\n",
    "    cross_val_test_acc.append(sum(results['test_score'])/len(results['test_score']))\n",
    "\n"
   ]
  },
  {
   "cell_type": "code",
   "execution_count": 47,
   "metadata": {},
   "outputs": [
    {
     "data": {
      "image/png": "[encoded data removed]",
      "text/plain": [
       "<Figure size 432x288 with 1 Axes>"
      ]
     },
     "metadata": {
      "needs_background": "light"
     },
     "output_type": "display_data"
    }
   ],
   "source": [
    "plt.plot(depth_range, cross_val_train_acc, 'bo-', label ='cross val training accuracy')\n",
    "plt.plot(depth_range, cross_val_test_acc, 'ro-', label = 'cross val testing accuracy')\n",
    "\n",
    "plt.xlabel('max_depth', fontsize='x-large')\n",
    "plt.ylabel('accuracy', fontsize='x-large')\n",
    "\n",
    "plt.legend(loc=(1.02,0), shadow=True, fontsize='x-large')\n",
    "plt.show()"
   ]
  },
  {
   "cell_type": "code",
   "execution_count": 48,
   "metadata": {},
   "outputs": [],
   "source": [
    "gamma_range = [i/10.0 for i in range(0,10)]\n",
    "train_acc = []\n",
    "test_acc = []\n",
    "cross_val_train_acc =[]\n",
    "cross_val_test_acc =[]\n",
    "\n",
    "for d in gamma_range:\n",
    "    # Create Random Forest Model\n",
    "    xgb_tune = xgb.XGBClassifier(  \n",
    "    colsample_bytree= 0.9,\n",
    "    max_depth = 3,\n",
    "    gamma = d,\n",
    "    learning_rate = 0.2,\n",
    "    min_child_weight = 10,\n",
    "    subsample=0.9,\n",
    "    random_state=4,\n",
    "    n_jobs=-1)\n",
    "    \n",
    "    xgb_tune.fit(x_train, y_train) \n",
    "    train_acc.append((xgb_tune.predict(x_train), y_train))\n",
    "    test_acc.append((xgb_tune.predict(x_test), y_test))\n",
    "    \n",
    "    results  = cross_validate(xgb_tune, x, y, scoring='accuracy', cv=5, return_train_score = True)\n",
    "    cross_val_train_acc.append(sum(results['train_score'])/len(results['train_score']))\n",
    "    cross_val_test_acc.append(sum(results['test_score'])/len(results['test_score']))\n",
    "\n"
   ]
  },
  {
   "cell_type": "code",
   "execution_count": 49,
   "metadata": {},
   "outputs": [
    {
     "data": {
      "image/png": "[encoded data removed]",
      "text/plain": [
       "<Figure size 432x288 with 1 Axes>"
      ]
     },
     "metadata": {
      "needs_background": "light"
     },
     "output_type": "display_data"
    }
   ],
   "source": [
    "plt.plot(gamma_range, cross_val_train_acc, 'bo-', label ='cross val training accuracy')\n",
    "plt.plot(gamma_range, cross_val_test_acc, 'ro-', label = 'cross val testing accuracy')\n",
    "\n",
    "plt.xlabel('gamma', fontsize='x-large')\n",
    "plt.ylabel('accuracy', fontsize='x-large')\n",
    "\n",
    "plt.legend(loc=(1.02,0), shadow=True, fontsize='x-large')\n",
    "plt.show()"
   ]
  },
  {
   "cell_type": "code",
   "execution_count": 50,
   "metadata": {},
   "outputs": [
    {
     "name": "stdout",
     "output_type": "stream",
     "text": [
      "***Final Model***\n",
      "training acc:  0.8374587458745875\n",
      "testing acc:  0.8210161662817552\n",
      "cross val training accuracy is: 0.8378666036690288\n",
      "cross val testing accuracy is: 0.8209740728436618\n"
     ]
    }
   ],
   "source": [
    "xgb_final = xgb.XGBClassifier(  \n",
    "    colsample_bytree= 0.9,\n",
    "    max_depth = 3,\n",
    "    gamma = 0.4,\n",
    "    learning_rate = 0.2,\n",
    "    min_child_weight = 10,\n",
    "    subsample=0.9,\n",
    "    random_state=4,\n",
    "    n_jobs=-1\n",
    ")\n",
    "\n",
    "xgb_final.fit(x_train,y_train)\n",
    "\n",
    "print('***Final Model***')\n",
    "print('training acc: ', xgb_final.score(x_train,y_train))\n",
    "print('testing acc: ', xgb_final.score(x_test,y_test))\n",
    "results  = cross_validate(xgb_final, x, y, scoring='accuracy', cv=5, return_train_score = True)\n",
    "print('cross val training accuracy is:', sum(results['train_score'])/len(results['train_score']))\n",
    "print('cross val testing accuracy is:', sum(results['test_score'])/len(results['test_score']))"
   ]
  },
  {
   "cell_type": "code",
   "execution_count": 8,
   "metadata": {},
   "outputs": [],
   "source": [
    "subsample_range = [i/10.0 for i in range(0,11)]\n",
    "train_acc = []\n",
    "test_acc = []\n",
    "cross_val_train_acc =[]\n",
    "cross_val_test_acc =[]\n",
    "\n",
    "for d in subsample_range:\n",
    "    # Create Random Forest Model\n",
    "    xgb_tune = xgb.XGBClassifier(  \n",
    "    colsample_bytree= 0.9,\n",
    "    max_depth = 3,\n",
    "    gamma = 0.4,\n",
    "    learning_rate = 0.2,\n",
    "    min_child_weight = 10,\n",
    "    subsample=d,\n",
    "    random_state=4,\n",
    "    n_jobs=-1)\n",
    "    \n",
    "    xgb_tune.fit(x_train, y_train) \n",
    "    train_acc.append((xgb_tune.predict(x_train), y_train))\n",
    "    test_acc.append((xgb_tune.predict(x_test), y_test))\n",
    "    \n",
    "    results  = cross_validate(xgb_tune, x, y, scoring='accuracy', cv=5, return_train_score = True)\n",
    "    cross_val_train_acc.append(sum(results['train_score'])/len(results['train_score']))\n",
    "    cross_val_test_acc.append(sum(results['test_score'])/len(results['test_score']))\n",
    "\n"
   ]
  },
  {
   "cell_type": "code",
   "execution_count": 9,
   "metadata": {},
   "outputs": [
    {
     "data": {
      "image/png": "[encoded data removed]",
      "text/plain": [
       "<Figure size 432x288 with 1 Axes>"
      ]
     },
     "metadata": {
      "needs_background": "light"
     },
     "output_type": "display_data"
    }
   ],
   "source": [
    "plt.plot(subsample_range, cross_val_train_acc, 'bo-', label ='cross val training accuracy')\n",
    "plt.plot(subsample_range, cross_val_test_acc, 'ro-', label = 'cross val testing accuracy')\n",
    "\n",
    "plt.xlabel('subsample', fontsize='x-large')\n",
    "plt.ylabel('accuracy', fontsize='x-large')\n",
    "\n",
    "plt.legend(loc=(1.02,0), shadow=True, fontsize='x-large')\n",
    "plt.show()"
   ]
  },
  {
   "cell_type": "code",
   "execution_count": 10,
   "metadata": {},
   "outputs": [],
   "source": [
    "colsample_range = [i/10.0 for i in range(0,11)]\n",
    "train_acc = []\n",
    "test_acc = []\n",
    "cross_val_train_acc =[]\n",
    "cross_val_test_acc =[]\n",
    "\n",
    "for d in colsample_range:\n",
    "    # Create Random Forest Model\n",
    "    xgb_tune = xgb.XGBClassifier(  \n",
    "    colsample_bytree= d,\n",
    "    max_depth = 3,\n",
    "    gamma = 0.4,\n",
    "    learning_rate = 0.2,\n",
    "    min_child_weight = 10,\n",
    "    subsample=0.9,\n",
    "    random_state=4,\n",
    "    n_jobs=-1)\n",
    "    \n",
    "    xgb_tune.fit(x_train, y_train) \n",
    "    train_acc.append((xgb_tune.predict(x_train), y_train))\n",
    "    test_acc.append((xgb_tune.predict(x_test), y_test))\n",
    "    \n",
    "    results  = cross_validate(xgb_tune, x, y, scoring='accuracy', cv=5, return_train_score = True)\n",
    "    cross_val_train_acc.append(sum(results['train_score'])/len(results['train_score']))\n",
    "    cross_val_test_acc.append(sum(results['test_score'])/len(results['test_score']))\n",
    "\n"
   ]
  },
  {
   "cell_type": "code",
   "execution_count": 11,
   "metadata": {},
   "outputs": [
    {
     "data": {
      "image/png": "[encoded data removed]",
      "text/plain": [
       "<Figure size 432x288 with 1 Axes>"
      ]
     },
     "metadata": {
      "needs_background": "light"
     },
     "output_type": "display_data"
    }
   ],
   "source": [
    "plt.plot(colsample_range, cross_val_train_acc, 'bo-', label ='cross val training accuracy')\n",
    "plt.plot(colsample_range, cross_val_test_acc, 'ro-', label = 'cross val testing accuracy')\n",
    "\n",
    "plt.xlabel('colsample_bytree', fontsize='x-large')\n",
    "plt.ylabel('accuracy', fontsize='x-large')\n",
    "\n",
    "plt.legend(loc=(1.02,0), shadow=True, fontsize='x-large')\n",
    "plt.show()"
   ]
  },
  {
   "cell_type": "code",
   "execution_count": 27,
   "metadata": {},
   "outputs": [
    {
     "name": "stdout",
     "output_type": "stream",
     "text": [
      "***Final Model***\n",
      "training acc:  0.8374587458745875\n",
      "testing acc:  0.8210161662817552\n",
      "cross val training accuracy is: 0.8378666036690288\n",
      "cross val testing accuracy is: 0.8209740728436618\n"
     ]
    }
   ],
   "source": [
    "xgb_final = xgb.XGBClassifier(  \n",
    "    colsample_bytree= 0.9,\n",
    "    max_depth = 3,\n",
    "    gamma = 0.4,\n",
    "    learning_rate = 0.2,\n",
    "    min_child_weight = 10,\n",
    "    subsample=0.9,\n",
    "    random_state=4,\n",
    "    n_jobs=-1\n",
    ")\n",
    "\n",
    "xgb_final.fit(x_train,y_train)\n",
    "\n",
    "print('***Final Model***')\n",
    "print('training acc: ', xgb_final.score(x_train,y_train))\n",
    "print('testing acc: ', xgb_final.score(x_test,y_test))\n",
    "results  = cross_validate(xgb_final, x, y, scoring='accuracy', cv=5, return_train_score = True)\n",
    "print('cross val training accuracy is:', sum(results['train_score'])/len(results['train_score']))\n",
    "print('cross val testing accuracy is:', sum(results['test_score'])/len(results['test_score']))"
   ]
  },
  {
   "cell_type": "markdown",
   "metadata": {},
   "source": [
    "### Third Model: SVC "
   ]
  },
  {
   "cell_type": "code",
   "execution_count": 9,
   "metadata": {},
   "outputs": [
    {
     "name": "stdout",
     "output_type": "stream",
     "text": [
      "0.8069983175966581\n",
      "{'C': 1000, 'kernel': 'rbf'}\n"
     ]
    }
   ],
   "source": [
    "#since there are so many different kernels, and each kernel have different paramters.\n",
    "#i will be using gridsearch to find the most optimal kernel first \n",
    "\n",
    "svc_new = svm.SVC(random_state=4)\n",
    "param_grid = {\n",
    "    'kernel': ['rbf', 'poly', 'sigmoid'],\n",
    "    'C': [0.1, 0.5, 1, 10, 100, 1000]\n",
    "    \n",
    "}\n",
    "svc_gs = GridSearchCV(estimator=svc_new, param_grid=param_grid, scoring='accuracy', cv=5, n_jobs=-1)\n",
    "svc_gs = svc_gs.fit(x, y)\n",
    "print(svc_gs.best_score_)\n",
    "print(svc_gs.best_params_)"
   ]
  },
  {
   "cell_type": "code",
   "execution_count": 57,
   "metadata": {},
   "outputs": [
    {
     "name": "stdout",
     "output_type": "stream",
     "text": [
      "***Final Model***\n",
      "training acc:  0.8070957095709571\n",
      "testing acc:  0.8098537336412626\n",
      "cross val training accuracy is: 0.8101754149883936\n",
      "cross val testing accuracy is: 0.8023775788067878\n"
     ]
    }
   ],
   "source": [
    "#shows that best kernel for svc is rbf and that testing accuracy increased\n",
    "svc_final= svm.SVC(kernel='rbf', C=100)\n",
    "\n",
    "svc_final.fit(x_train,y_train)\n",
    "\n",
    "print('***Final Model***')\n",
    "print('training acc: ', svc_final.score(x_train,y_train))\n",
    "print('testing acc: ', svc_final.score(x_test,y_test))\n",
    "results  = cross_validate(svc_final, x, y, scoring='accuracy', cv=5, return_train_score = True)\n",
    "print('cross val training accuracy is:', sum(results['train_score'])/len(results['train_score']))\n",
    "print('cross val testing accuracy is:', sum(results['test_score'])/len(results['test_score']))"
   ]
  },
  {
   "cell_type": "code",
   "execution_count": 58,
   "metadata": {},
   "outputs": [
    {
     "name": "stdout",
     "output_type": "stream",
     "text": [
      "0.8050350689705319\n",
      "{'C': 1000, 'gamma': 0.1, 'kernel': 'rbf'}\n"
     ]
    }
   ],
   "source": [
    "#now that i know rbf is the best kernel for this dataset, i will be using gridsearch again on c and this time\n",
    "#since it is rbf, i will be gridsearching gamma.\n",
    "svc_new = svm.SVC(random_state=4)\n",
    "param_grid = {\n",
    "    'kernel': ['rbf'],\n",
    "    'C': [1, 10, 100, 1000, 10000],\n",
    "    'gamma': [0.01, 0.1, 1, 10, 100]\n",
    "}\n",
    "svc_gs = GridSearchCV(estimator=svc_new, param_grid=param_grid, scoring='accuracy', cv=5, n_jobs=-1)\n",
    "svc_gs = svc_gs.fit(x, y)\n",
    "print(svc_gs.best_score_)\n",
    "print(svc_gs.best_params_)"
   ]
  },
  {
   "cell_type": "code",
   "execution_count": 59,
   "metadata": {},
   "outputs": [
    {
     "name": "stdout",
     "output_type": "stream",
     "text": [
      "***Final Model***\n",
      "training acc:  0.8244224422442245\n",
      "testing acc:  0.815242494226328\n",
      "cross val training accuracy is: 0.8260278834582051\n",
      "cross val testing accuracy is: 0.8050350689705319\n"
     ]
    }
   ],
   "source": [
    "#after i finish running the gridsearh, this was the result\n",
    "#though the training accuracy increased quite a bit, the testing accuracy was increased as well.\n",
    "#now that i know which value should i start from, i will now tune each parameter.\n",
    "svc_final= svm.SVC(C=1000,gamma=0.1,kernel='rbf')\n",
    "\n",
    "svc_final.fit(x_train,y_train)\n",
    "\n",
    "print('***Final Model***')\n",
    "print('training acc: ', svc_final.score(x_train,y_train))\n",
    "print('testing acc: ', svc_final.score(x_test,y_test))\n",
    "results  = cross_validate(svc_final, x, y, scoring='accuracy', cv=5, return_train_score = True)\n",
    "print('cross val training accuracy is:', sum(results['train_score'])/len(results['train_score']))\n",
    "print('cross val testing accuracy is:', sum(results['test_score'])/len(results['test_score']))"
   ]
  },
  {
   "cell_type": "code",
   "execution_count": 1,
   "metadata": {},
   "outputs": [
    {
     "ename": "NameError",
     "evalue": "name 'svm' is not defined",
     "output_type": "error",
     "traceback": [
      "\u001b[1;31m---------------------------------------------------------------------------\u001b[0m",
      "\u001b[1;31mNameError\u001b[0m                                 Traceback (most recent call last)",
      "\u001b[1;32m<ipython-input-1-278259d74673>\u001b[0m in \u001b[0;36m<module>\u001b[1;34m\u001b[0m\n\u001b[0;32m      8\u001b[0m \u001b[1;32mfor\u001b[0m \u001b[0md\u001b[0m \u001b[1;32min\u001b[0m \u001b[0mC_range\u001b[0m\u001b[1;33m:\u001b[0m\u001b[1;33m\u001b[0m\u001b[1;33m\u001b[0m\u001b[0m\n\u001b[0;32m      9\u001b[0m \u001b[1;33m\u001b[0m\u001b[0m\n\u001b[1;32m---> 10\u001b[1;33m     \u001b[0msvm_tune\u001b[0m \u001b[1;33m=\u001b[0m \u001b[0msvm\u001b[0m\u001b[1;33m.\u001b[0m\u001b[0mSVC\u001b[0m\u001b[1;33m(\u001b[0m\u001b[0mC\u001b[0m\u001b[1;33m=\u001b[0m\u001b[0md\u001b[0m\u001b[1;33m,\u001b[0m \u001b[0mkernel\u001b[0m\u001b[1;33m=\u001b[0m\u001b[1;34m'rbf'\u001b[0m\u001b[1;33m,\u001b[0m \u001b[0mgamma\u001b[0m\u001b[1;33m=\u001b[0m\u001b[1;36m0.1\u001b[0m\u001b[1;33m)\u001b[0m\u001b[1;33m\u001b[0m\u001b[1;33m\u001b[0m\u001b[0m\n\u001b[0m\u001b[0;32m     11\u001b[0m \u001b[1;33m\u001b[0m\u001b[0m\n\u001b[0;32m     12\u001b[0m     \u001b[0msvm_tune\u001b[0m\u001b[1;33m.\u001b[0m\u001b[0mfit\u001b[0m\u001b[1;33m(\u001b[0m\u001b[0mx_train\u001b[0m\u001b[1;33m,\u001b[0m \u001b[0my_train\u001b[0m\u001b[1;33m)\u001b[0m\u001b[1;33m\u001b[0m\u001b[1;33m\u001b[0m\u001b[0m\n",
      "\u001b[1;31mNameError\u001b[0m: name 'svm' is not defined"
     ]
    }
   ],
   "source": [
    "#firstly, i will be tuning the c value.\n",
    "C_range = range(200, 1000, 100)\n",
    "train_acc = []\n",
    "test_acc = []\n",
    "cross_val_train_acc =[]\n",
    "cross_val_test_acc =[]\n",
    "\n",
    "for d in C_range:\n",
    "\n",
    "    svm_tune = svm.SVC(C=d, kernel='rbf', gamma=0.1)\n",
    "    \n",
    "    svm_tune.fit(x_train, y_train) \n",
    "    train_acc.append((svm_tune.predict(x_train), y_train))\n",
    "    test_acc.append((svm_tune.predict(x_test), y_test))\n",
    "    \n",
    "    results  = cross_validate(svm_tune, x, y, scoring='accuracy', cv=5, return_train_score = True)\n",
    "    cross_val_train_acc.append(sum(results['train_score'])/len(results['train_score']))\n",
    "    cross_val_test_acc.append(sum(results['test_score'])/len(results['test_score']))\n",
    "\n"
   ]
  },
  {
   "cell_type": "code",
   "execution_count": 2,
   "metadata": {},
   "outputs": [
    {
     "ename": "NameError",
     "evalue": "name 'svm' is not defined",
     "output_type": "error",
     "traceback": [
      "\u001b[1;31m---------------------------------------------------------------------------\u001b[0m",
      "\u001b[1;31mNameError\u001b[0m                                 Traceback (most recent call last)",
      "\u001b[1;32m<ipython-input-2-2ab7bea7b487>\u001b[0m in \u001b[0;36m<module>\u001b[1;34m\u001b[0m\n\u001b[0;32m      8\u001b[0m \u001b[1;32mfor\u001b[0m \u001b[0md\u001b[0m \u001b[1;32min\u001b[0m \u001b[0mC_range\u001b[0m\u001b[1;33m:\u001b[0m\u001b[1;33m\u001b[0m\u001b[1;33m\u001b[0m\u001b[0m\n\u001b[0;32m      9\u001b[0m \u001b[1;33m\u001b[0m\u001b[0m\n\u001b[1;32m---> 10\u001b[1;33m     \u001b[0msvm_tune\u001b[0m \u001b[1;33m=\u001b[0m \u001b[0msvm\u001b[0m\u001b[1;33m.\u001b[0m\u001b[0mSVC\u001b[0m\u001b[1;33m(\u001b[0m\u001b[0mC\u001b[0m\u001b[1;33m=\u001b[0m\u001b[0md\u001b[0m\u001b[1;33m,\u001b[0m \u001b[0mkernel\u001b[0m\u001b[1;33m=\u001b[0m\u001b[1;34m'rbf'\u001b[0m\u001b[1;33m,\u001b[0m \u001b[0mgamma\u001b[0m\u001b[1;33m=\u001b[0m\u001b[1;36m0.1\u001b[0m\u001b[1;33m)\u001b[0m\u001b[1;33m\u001b[0m\u001b[1;33m\u001b[0m\u001b[0m\n\u001b[0m\u001b[0;32m     11\u001b[0m \u001b[1;33m\u001b[0m\u001b[0m\n\u001b[0;32m     12\u001b[0m     \u001b[0msvm_tune\u001b[0m\u001b[1;33m.\u001b[0m\u001b[0mfit\u001b[0m\u001b[1;33m(\u001b[0m\u001b[0mx_train\u001b[0m\u001b[1;33m,\u001b[0m \u001b[0my_train\u001b[0m\u001b[1;33m)\u001b[0m\u001b[1;33m\u001b[0m\u001b[1;33m\u001b[0m\u001b[0m\n",
      "\u001b[1;31mNameError\u001b[0m: name 'svm' is not defined"
     ]
    }
   ],
   "source": [
    "#firstly, i will be tuning the c value.\n",
    "C_range = range(100, 1100, 100)\n",
    "train_acc = []\n",
    "test_acc = []\n",
    "cross_val_train_acc =[]\n",
    "cross_val_test_acc =[]\n",
    "\n",
    "for d in C_range:\n",
    "\n",
    "    svm_tune = svm.SVC(C=d, kernel='rbf', gamma=0.1)\n",
    "    \n",
    "    svm_tune.fit(x_train, y_train) \n",
    "    train_acc.append((svm_tune.predict(x_train), y_train))\n",
    "    test_acc.append((svm_tune.predict(x_test), y_test))\n",
    "    \n",
    "    results  = cross_validate(svm_tune, x, y, scoring='accuracy', cv=5, return_train_score = True)\n",
    "    cross_val_train_acc.append(sum(results['train_score'])/len(results['train_score']))\n",
    "    cross_val_test_acc.append(sum(results['test_score'])/len(results['test_score']))\n",
    "\n"
   ]
  },
  {
   "cell_type": "code",
   "execution_count": null,
   "metadata": {},
   "outputs": [],
   "source": [
    "#shows that 0.9 has the highest testing accuracy whcih is the original value. thus, no changes will be made\n",
    "plt.plot(C_range, cross_val_train_acc, 'bo-', label ='cross val training accuracy')\n",
    "plt.plot(C_range, cross_val_test_acc, 'ro-', label = 'cross val testing accuracy')\n",
    "\n",
    "plt.xlabel('C value', fontsize='x-large')\n",
    "plt.ylabel('accuracy', fontsize='x-large')\n",
    "\n",
    "plt.legend(loc=(1.02,0), shadow=True, fontsize='x-large')\n",
    "plt.show()"
   ]
  },
  {
   "cell_type": "code",
   "execution_count": 17,
   "metadata": {},
   "outputs": [
    {
     "name": "stdout",
     "output_type": "stream",
     "text": [
      "***Final Model***\n",
      "training acc:  0.81996699669967\n",
      "testing acc:  0.8144726712856043\n",
      "cross val training accuracy is: 0.8216677607462103\n",
      "cross val testing accuracy is: 0.8068827107373624\n"
     ]
    }
   ],
   "source": [
    "svc_final= svm.SVC(C=500,gamma=0.1,kernel='rbf')\n",
    "\n",
    "svc_final.fit(x_train,y_train)\n",
    "\n",
    "print('***Final Model***')\n",
    "print('training acc: ', svc_final.score(x_train,y_train))\n",
    "print('testing acc: ', svc_final.score(x_test,y_test))\n",
    "results  = cross_validate(svc_final, x, y, scoring='accuracy', cv=5, return_train_score = True)\n",
    "print('cross val training accuracy is:', sum(results['train_score'])/len(results['train_score']))\n",
    "print('cross val testing accuracy is:', sum(results['test_score'])/len(results['test_score']))"
   ]
  },
  {
   "cell_type": "code",
   "execution_count": 27,
   "metadata": {},
   "outputs": [],
   "source": [
    "gamma_range = [i/100 for i in range(1,11)]\n",
    "train_acc = []\n",
    "test_acc = []\n",
    "cross_val_train_acc =[]\n",
    "cross_val_test_acc =[]\n",
    "\n",
    "for d in gamma_range:\n",
    "    svm_tune = svm.SVC(C=500, kernel='rbf', gamma=d)\n",
    "    \n",
    "    svm_tune.fit(x_train, y_train) \n",
    "    train_acc.append((svm_tune.predict(x_train), y_train))\n",
    "    test_acc.append((svm_tune.predict(x_test), y_test))\n",
    "    \n",
    "    results  = cross_validate(svm_tune, x, y, scoring='accuracy', cv=5, return_train_score = True)\n",
    "    cross_val_train_acc.append(sum(results['train_score'])/len(results['train_score']))\n",
    "    cross_val_test_acc.append(sum(results['test_score'])/len(results['test_score']))\n",
    "\n"
   ]
  },
  {
   "cell_type": "code",
   "execution_count": 28,
   "metadata": {},
   "outputs": [
    {
     "data": {
      "image/png": "[encoded data removed]",
      "text/plain": [
       "<Figure size 432x288 with 1 Axes>"
      ]
     },
     "metadata": {
      "needs_background": "light"
     },
     "output_type": "display_data"
    }
   ],
   "source": [
    "plt.plot(gamma_range, cross_val_train_acc, 'bo-', label ='cross val training accuracy')\n",
    "plt.plot(gamma_range, cross_val_test_acc, 'ro-', label = 'cross val testing accuracy')\n",
    "\n",
    "plt.xlabel('gamma', fontsize='x-large')\n",
    "plt.ylabel('Accuracy', fontsize='x-large')\n",
    "\n",
    "plt.legend(loc=(1.02,0), shadow=True, fontsize='x-large')\n",
    "plt.show()"
   ]
  },
  {
   "cell_type": "code",
   "execution_count": 30,
   "metadata": {},
   "outputs": [
    {
     "name": "stdout",
     "output_type": "stream",
     "text": [
      "***Final Model***\n",
      "training acc:  0.8128712871287128\n",
      "testing acc:  0.8125481139337952\n",
      "cross val training accuracy is: 0.8141313348174796\n",
      "cross val testing accuracy is: 0.8054960955167487\n"
     ]
    }
   ],
   "source": [
    "svc_final= svm.SVC(C=500,gamma=0.06,kernel='rbf')\n",
    "\n",
    "svc_final.fit(x_train,y_train)\n",
    "\n",
    "print('***Final Model***')\n",
    "print('training acc: ', svc_final.score(x_train,y_train))\n",
    "print('testing acc: ', svc_final.score(x_test,y_test))\n",
    "results  = cross_validate(svc_final, x, y, scoring='accuracy', cv=5, return_train_score = True)\n",
    "print('cross val training accuracy is:', sum(results['train_score'])/len(results['train_score']))\n",
    "print('cross val testing accuracy is:', sum(results['test_score'])/len(results['test_score']))"
   ]
  },
  {
   "cell_type": "markdown",
   "metadata": {},
   "source": [
    "## 2. Airbnb Singapore"
   ]
  },
  {
   "cell_type": "markdown",
   "metadata": {},
   "source": [
    "### 2.1 Load and Sample the data"
   ]
  },
  {
   "cell_type": "code",
   "execution_count": 31,
   "metadata": {},
   "outputs": [],
   "source": [
    "abnb_data = pd.read_csv('listing_new.csv')"
   ]
  },
  {
   "cell_type": "code",
   "execution_count": 32,
   "metadata": {},
   "outputs": [
    {
     "data": {
      "text/html": [
       "<div>\n",
       "<style scoped>\n",
       "    .dataframe tbody tr th:only-of-type {\n",
       "        vertical-align: middle;\n",
       "    }\n",
       "\n",
       "    .dataframe tbody tr th {\n",
       "        vertical-align: top;\n",
       "    }\n",
       "\n",
       "    .dataframe thead th {\n",
       "        text-align: right;\n",
       "    }\n",
       "</style>\n",
       "<table border=\"1\" class=\"dataframe\">\n",
       "  <thead>\n",
       "    <tr style=\"text-align: right;\">\n",
       "      <th></th>\n",
       "      <th>neighbourhood</th>\n",
       "      <th>latitude</th>\n",
       "      <th>longitude</th>\n",
       "      <th>room_type</th>\n",
       "      <th>price</th>\n",
       "      <th>minimum_nights</th>\n",
       "      <th>number_of_reviews</th>\n",
       "      <th>reviews_per_month</th>\n",
       "      <th>calculated_host_listings_count</th>\n",
       "      <th>availability_365</th>\n",
       "      <th>last_review_year</th>\n",
       "      <th>last_review_month</th>\n",
       "      <th>last_review_day</th>\n",
       "    </tr>\n",
       "  </thead>\n",
       "  <tbody>\n",
       "    <tr>\n",
       "      <td>0</td>\n",
       "      <td>2</td>\n",
       "      <td>1.33235</td>\n",
       "      <td>103.78521</td>\n",
       "      <td>2</td>\n",
       "      <td>81</td>\n",
       "      <td>90</td>\n",
       "      <td>18</td>\n",
       "      <td>0.28</td>\n",
       "      <td>1</td>\n",
       "      <td>365</td>\n",
       "      <td>2014</td>\n",
       "      <td>12</td>\n",
       "      <td>26</td>\n",
       "    </tr>\n",
       "    <tr>\n",
       "      <td>1</td>\n",
       "      <td>1</td>\n",
       "      <td>1.28875</td>\n",
       "      <td>103.80814</td>\n",
       "      <td>2</td>\n",
       "      <td>44</td>\n",
       "      <td>15</td>\n",
       "      <td>18</td>\n",
       "      <td>0.23</td>\n",
       "      <td>32</td>\n",
       "      <td>331</td>\n",
       "      <td>2019</td>\n",
       "      <td>4</td>\n",
       "      <td>21</td>\n",
       "    </tr>\n",
       "    <tr>\n",
       "      <td>2</td>\n",
       "      <td>1</td>\n",
       "      <td>1.28837</td>\n",
       "      <td>103.81099</td>\n",
       "      <td>2</td>\n",
       "      <td>40</td>\n",
       "      <td>30</td>\n",
       "      <td>10</td>\n",
       "      <td>0.11</td>\n",
       "      <td>32</td>\n",
       "      <td>276</td>\n",
       "      <td>2018</td>\n",
       "      <td>9</td>\n",
       "      <td>13</td>\n",
       "    </tr>\n",
       "    <tr>\n",
       "      <td>3</td>\n",
       "      <td>8</td>\n",
       "      <td>1.31125</td>\n",
       "      <td>103.83816</td>\n",
       "      <td>2</td>\n",
       "      <td>65</td>\n",
       "      <td>2</td>\n",
       "      <td>125</td>\n",
       "      <td>1.35</td>\n",
       "      <td>6</td>\n",
       "      <td>336</td>\n",
       "      <td>2019</td>\n",
       "      <td>8</td>\n",
       "      <td>22</td>\n",
       "    </tr>\n",
       "    <tr>\n",
       "      <td>4</td>\n",
       "      <td>1</td>\n",
       "      <td>1.28976</td>\n",
       "      <td>103.80896</td>\n",
       "      <td>2</td>\n",
       "      <td>44</td>\n",
       "      <td>30</td>\n",
       "      <td>13</td>\n",
       "      <td>0.15</td>\n",
       "      <td>32</td>\n",
       "      <td>340</td>\n",
       "      <td>2019</td>\n",
       "      <td>2</td>\n",
       "      <td>2</td>\n",
       "    </tr>\n",
       "  </tbody>\n",
       "</table>\n",
       "</div>"
      ],
      "text/plain": [
       "   neighbourhood  latitude  longitude  room_type  price  minimum_nights  \\\n",
       "0              2   1.33235  103.78521          2     81              90   \n",
       "1              1   1.28875  103.80814          2     44              15   \n",
       "2              1   1.28837  103.81099          2     40              30   \n",
       "3              8   1.31125  103.83816          2     65               2   \n",
       "4              1   1.28976  103.80896          2     44              30   \n",
       "\n",
       "   number_of_reviews  reviews_per_month  calculated_host_listings_count  \\\n",
       "0                 18               0.28                               1   \n",
       "1                 18               0.23                              32   \n",
       "2                 10               0.11                              32   \n",
       "3                125               1.35                               6   \n",
       "4                 13               0.15                              32   \n",
       "\n",
       "   availability_365  last_review_year  last_review_month  last_review_day  \n",
       "0               365              2014                 12               26  \n",
       "1               331              2019                  4               21  \n",
       "2               276              2018                  9               13  \n",
       "3               336              2019                  8               22  \n",
       "4               340              2019                  2                2  "
      ]
     },
     "execution_count": 32,
     "metadata": {},
     "output_type": "execute_result"
    }
   ],
   "source": [
    "abnb_data.head()"
   ]
  },
  {
   "cell_type": "code",
   "execution_count": 33,
   "metadata": {},
   "outputs": [],
   "source": [
    "#scale data using minmax\n",
    "abnb_data[\"neighbourhood\"] = (abnb_data[\"neighbourhood\"] - abnb_data[\"neighbourhood\"].min()) / (abnb_data[\"neighbourhood\"].max()-abnb_data[\"neighbourhood\"].min())\n",
    "abnb_data[\"minimum_nights\"] = (abnb_data[\"minimum_nights\"] - abnb_data[\"minimum_nights\"].min()) / (abnb_data[\"minimum_nights\"].max()-abnb_data[\"minimum_nights\"].min())\n",
    "abnb_data[\"number_of_reviews\"] = (abnb_data[\"number_of_reviews\"] - abnb_data[\"number_of_reviews\"].min()) / (abnb_data[\"number_of_reviews\"].max()-abnb_data[\"number_of_reviews\"].min())\n",
    "abnb_data[\"calculated_host_listings_count\"] = (abnb_data[\"calculated_host_listings_count\"] - abnb_data[\"calculated_host_listings_count\"].min()) / (abnb_data[\"calculated_host_listings_count\"].max()-abnb_data[\"calculated_host_listings_count\"].min())\n",
    "abnb_data[\"availability_365\"] = (abnb_data[\"availability_365\"] - abnb_data[\"availability_365\"].min()) / (abnb_data[\"availability_365\"].max()-abnb_data[\"availability_365\"].min())\n",
    "abnb_data[\"last_review_year\"] = (abnb_data[\"last_review_year\"] - abnb_data[\"last_review_year\"].min()) / (abnb_data[\"last_review_year\"].max()-abnb_data[\"last_review_year\"].min())\n",
    "abnb_data[\"last_review_month\"] = (abnb_data[\"last_review_month\"] - abnb_data[\"last_review_month\"].min()) / (abnb_data[\"last_review_month\"].max()-abnb_data[\"last_review_month\"].min())\n",
    "abnb_data[\"last_review_day\"] = (abnb_data[\"last_review_day\"] - abnb_data[\"last_review_day\"].min()) / (abnb_data[\"last_review_day\"].max()-abnb_data[\"last_review_day\"].min())\n",
    "abnb_data[\"reviews_per_month\"] = (abnb_data[\"reviews_per_month\"] - abnb_data[\"reviews_per_month\"].min()) / (abnb_data[\"reviews_per_month\"].max()-abnb_data[\"reviews_per_month\"].min())\n",
    "abnb_data[\"longitude\"] = (abnb_data[\"longitude\"] - abnb_data[\"longitude\"].min()) / (abnb_data[\"longitude\"].max()-abnb_data[\"longitude\"].min())\n",
    "abnb_data[\"latitude\"] = (abnb_data[\"latitude\"] - abnb_data[\"latitude\"].min()) / (abnb_data[\"latitude\"].max()-abnb_data[\"latitude\"].min())\n",
    "abnb_data[\"room_type\"] = (abnb_data[\"room_type\"] - abnb_data[\"room_type\"].min()) / (abnb_data[\"room_type\"].max()-abnb_data[\"room_type\"].min())\n"
   ]
  },
  {
   "cell_type": "code",
   "execution_count": 34,
   "metadata": {},
   "outputs": [
    {
     "data": {
      "text/html": [
       "<div>\n",
       "<style scoped>\n",
       "    .dataframe tbody tr th:only-of-type {\n",
       "        vertical-align: middle;\n",
       "    }\n",
       "\n",
       "    .dataframe tbody tr th {\n",
       "        vertical-align: top;\n",
       "    }\n",
       "\n",
       "    .dataframe thead th {\n",
       "        text-align: right;\n",
       "    }\n",
       "</style>\n",
       "<table border=\"1\" class=\"dataframe\">\n",
       "  <thead>\n",
       "    <tr style=\"text-align: right;\">\n",
       "      <th></th>\n",
       "      <th>neighbourhood</th>\n",
       "      <th>latitude</th>\n",
       "      <th>longitude</th>\n",
       "      <th>room_type</th>\n",
       "      <th>price</th>\n",
       "      <th>minimum_nights</th>\n",
       "      <th>number_of_reviews</th>\n",
       "      <th>reviews_per_month</th>\n",
       "      <th>calculated_host_listings_count</th>\n",
       "      <th>availability_365</th>\n",
       "      <th>last_review_year</th>\n",
       "      <th>last_review_month</th>\n",
       "      <th>last_review_day</th>\n",
       "    </tr>\n",
       "  </thead>\n",
       "  <tbody>\n",
       "    <tr>\n",
       "      <td>0</td>\n",
       "      <td>0.111111</td>\n",
       "      <td>0.730682</td>\n",
       "      <td>0.141594</td>\n",
       "      <td>0.5</td>\n",
       "      <td>81</td>\n",
       "      <td>0.127325</td>\n",
       "      <td>0.055556</td>\n",
       "      <td>0.020031</td>\n",
       "      <td>0.000000</td>\n",
       "      <td>1.000000</td>\n",
       "      <td>0.0</td>\n",
       "      <td>1.000000</td>\n",
       "      <td>0.833333</td>\n",
       "    </tr>\n",
       "    <tr>\n",
       "      <td>1</td>\n",
       "      <td>0.055556</td>\n",
       "      <td>0.364880</td>\n",
       "      <td>0.289577</td>\n",
       "      <td>0.5</td>\n",
       "      <td>44</td>\n",
       "      <td>0.020029</td>\n",
       "      <td>0.055556</td>\n",
       "      <td>0.016179</td>\n",
       "      <td>0.113553</td>\n",
       "      <td>0.906849</td>\n",
       "      <td>1.0</td>\n",
       "      <td>0.272727</td>\n",
       "      <td>0.666667</td>\n",
       "    </tr>\n",
       "    <tr>\n",
       "      <td>2</td>\n",
       "      <td>0.055556</td>\n",
       "      <td>0.361691</td>\n",
       "      <td>0.307970</td>\n",
       "      <td>0.5</td>\n",
       "      <td>40</td>\n",
       "      <td>0.041488</td>\n",
       "      <td>0.029412</td>\n",
       "      <td>0.006934</td>\n",
       "      <td>0.113553</td>\n",
       "      <td>0.756164</td>\n",
       "      <td>0.8</td>\n",
       "      <td>0.727273</td>\n",
       "      <td>0.400000</td>\n",
       "    </tr>\n",
       "    <tr>\n",
       "      <td>3</td>\n",
       "      <td>0.444444</td>\n",
       "      <td>0.553654</td>\n",
       "      <td>0.483317</td>\n",
       "      <td>0.5</td>\n",
       "      <td>65</td>\n",
       "      <td>0.001431</td>\n",
       "      <td>0.405229</td>\n",
       "      <td>0.102465</td>\n",
       "      <td>0.018315</td>\n",
       "      <td>0.920548</td>\n",
       "      <td>1.0</td>\n",
       "      <td>0.636364</td>\n",
       "      <td>0.700000</td>\n",
       "    </tr>\n",
       "    <tr>\n",
       "      <td>4</td>\n",
       "      <td>0.055556</td>\n",
       "      <td>0.373353</td>\n",
       "      <td>0.294869</td>\n",
       "      <td>0.5</td>\n",
       "      <td>44</td>\n",
       "      <td>0.041488</td>\n",
       "      <td>0.039216</td>\n",
       "      <td>0.010015</td>\n",
       "      <td>0.113553</td>\n",
       "      <td>0.931507</td>\n",
       "      <td>1.0</td>\n",
       "      <td>0.090909</td>\n",
       "      <td>0.033333</td>\n",
       "    </tr>\n",
       "    <tr>\n",
       "      <td>...</td>\n",
       "      <td>...</td>\n",
       "      <td>...</td>\n",
       "      <td>...</td>\n",
       "      <td>...</td>\n",
       "      <td>...</td>\n",
       "      <td>...</td>\n",
       "      <td>...</td>\n",
       "      <td>...</td>\n",
       "      <td>...</td>\n",
       "      <td>...</td>\n",
       "      <td>...</td>\n",
       "      <td>...</td>\n",
       "      <td>...</td>\n",
       "    </tr>\n",
       "    <tr>\n",
       "      <td>3967</td>\n",
       "      <td>0.277778</td>\n",
       "      <td>0.583019</td>\n",
       "      <td>0.616134</td>\n",
       "      <td>0.0</td>\n",
       "      <td>26</td>\n",
       "      <td>0.000000</td>\n",
       "      <td>0.000000</td>\n",
       "      <td>0.075501</td>\n",
       "      <td>0.025641</td>\n",
       "      <td>0.517808</td>\n",
       "      <td>1.0</td>\n",
       "      <td>0.636364</td>\n",
       "      <td>0.300000</td>\n",
       "    </tr>\n",
       "    <tr>\n",
       "      <td>3968</td>\n",
       "      <td>0.333333</td>\n",
       "      <td>0.473614</td>\n",
       "      <td>0.889706</td>\n",
       "      <td>0.5</td>\n",
       "      <td>169</td>\n",
       "      <td>0.001431</td>\n",
       "      <td>0.000000</td>\n",
       "      <td>0.075501</td>\n",
       "      <td>0.000000</td>\n",
       "      <td>1.000000</td>\n",
       "      <td>1.0</td>\n",
       "      <td>0.636364</td>\n",
       "      <td>0.433333</td>\n",
       "    </tr>\n",
       "    <tr>\n",
       "      <td>3969</td>\n",
       "      <td>0.277778</td>\n",
       "      <td>0.585536</td>\n",
       "      <td>0.625686</td>\n",
       "      <td>0.0</td>\n",
       "      <td>56</td>\n",
       "      <td>0.000000</td>\n",
       "      <td>0.000000</td>\n",
       "      <td>0.075501</td>\n",
       "      <td>0.025641</td>\n",
       "      <td>0.331507</td>\n",
       "      <td>1.0</td>\n",
       "      <td>0.636364</td>\n",
       "      <td>0.400000</td>\n",
       "    </tr>\n",
       "    <tr>\n",
       "      <td>3970</td>\n",
       "      <td>1.000000</td>\n",
       "      <td>0.800151</td>\n",
       "      <td>0.767473</td>\n",
       "      <td>0.5</td>\n",
       "      <td>60</td>\n",
       "      <td>0.000000</td>\n",
       "      <td>0.000000</td>\n",
       "      <td>0.075501</td>\n",
       "      <td>0.000000</td>\n",
       "      <td>0.002740</td>\n",
       "      <td>1.0</td>\n",
       "      <td>0.636364</td>\n",
       "      <td>0.366667</td>\n",
       "    </tr>\n",
       "    <tr>\n",
       "      <td>3971</td>\n",
       "      <td>0.777778</td>\n",
       "      <td>0.465475</td>\n",
       "      <td>0.543078</td>\n",
       "      <td>1.0</td>\n",
       "      <td>237</td>\n",
       "      <td>0.008584</td>\n",
       "      <td>0.000000</td>\n",
       "      <td>0.075501</td>\n",
       "      <td>0.040293</td>\n",
       "      <td>0.435616</td>\n",
       "      <td>1.0</td>\n",
       "      <td>0.636364</td>\n",
       "      <td>0.800000</td>\n",
       "    </tr>\n",
       "  </tbody>\n",
       "</table>\n",
       "<p>3972 rows × 13 columns</p>\n",
       "</div>"
      ],
      "text/plain": [
       "      neighbourhood  latitude  longitude  room_type  price  minimum_nights  \\\n",
       "0          0.111111  0.730682   0.141594        0.5     81        0.127325   \n",
       "1          0.055556  0.364880   0.289577        0.5     44        0.020029   \n",
       "2          0.055556  0.361691   0.307970        0.5     40        0.041488   \n",
       "3          0.444444  0.553654   0.483317        0.5     65        0.001431   \n",
       "4          0.055556  0.373353   0.294869        0.5     44        0.041488   \n",
       "...             ...       ...        ...        ...    ...             ...   \n",
       "3967       0.277778  0.583019   0.616134        0.0     26        0.000000   \n",
       "3968       0.333333  0.473614   0.889706        0.5    169        0.001431   \n",
       "3969       0.277778  0.585536   0.625686        0.0     56        0.000000   \n",
       "3970       1.000000  0.800151   0.767473        0.5     60        0.000000   \n",
       "3971       0.777778  0.465475   0.543078        1.0    237        0.008584   \n",
       "\n",
       "      number_of_reviews  reviews_per_month  calculated_host_listings_count  \\\n",
       "0              0.055556           0.020031                        0.000000   \n",
       "1              0.055556           0.016179                        0.113553   \n",
       "2              0.029412           0.006934                        0.113553   \n",
       "3              0.405229           0.102465                        0.018315   \n",
       "4              0.039216           0.010015                        0.113553   \n",
       "...                 ...                ...                             ...   \n",
       "3967           0.000000           0.075501                        0.025641   \n",
       "3968           0.000000           0.075501                        0.000000   \n",
       "3969           0.000000           0.075501                        0.025641   \n",
       "3970           0.000000           0.075501                        0.000000   \n",
       "3971           0.000000           0.075501                        0.040293   \n",
       "\n",
       "      availability_365  last_review_year  last_review_month  last_review_day  \n",
       "0             1.000000               0.0           1.000000         0.833333  \n",
       "1             0.906849               1.0           0.272727         0.666667  \n",
       "2             0.756164               0.8           0.727273         0.400000  \n",
       "3             0.920548               1.0           0.636364         0.700000  \n",
       "4             0.931507               1.0           0.090909         0.033333  \n",
       "...                ...               ...                ...              ...  \n",
       "3967          0.517808               1.0           0.636364         0.300000  \n",
       "3968          1.000000               1.0           0.636364         0.433333  \n",
       "3969          0.331507               1.0           0.636364         0.400000  \n",
       "3970          0.002740               1.0           0.636364         0.366667  \n",
       "3971          0.435616               1.0           0.636364         0.800000  \n",
       "\n",
       "[3972 rows x 13 columns]"
      ]
     },
     "execution_count": 34,
     "metadata": {},
     "output_type": "execute_result"
    }
   ],
   "source": [
    "abnb_data"
   ]
  },
  {
   "cell_type": "code",
   "execution_count": 35,
   "metadata": {},
   "outputs": [],
   "source": [
    "# Define Model Inputs (X) and Output (y)\n",
    "x = abnb_data.drop(['price'], axis =1)\n",
    "y = abnb_data[\"price\"]"
   ]
  },
  {
   "cell_type": "code",
   "execution_count": 36,
   "metadata": {},
   "outputs": [],
   "source": [
    "x_train, x_test, y_train, y_test = train_test_split(x, y, test_size=0.3, random_state = 5)"
   ]
  },
  {
   "cell_type": "markdown",
   "metadata": {},
   "source": [
    "### 2.2 Build the Model(s)"
   ]
  },
  {
   "cell_type": "code",
   "execution_count": 75,
   "metadata": {},
   "outputs": [
    {
     "data": {
      "text/plain": [
       "LinearRegression()"
      ]
     },
     "execution_count": 75,
     "metadata": {},
     "output_type": "execute_result"
    }
   ],
   "source": [
    "# train the model using training set\n",
    "lm = LinearRegression()\n",
    "lm.fit(x_train, y_train)"
   ]
  },
  {
   "cell_type": "code",
   "execution_count": 76,
   "metadata": {},
   "outputs": [
    {
     "data": {
      "text/plain": [
       "DecisionTreeRegressor(random_state=5)"
      ]
     },
     "execution_count": 76,
     "metadata": {},
     "output_type": "execute_result"
    }
   ],
   "source": [
    "dt = tree.DecisionTreeRegressor(random_state = 5)\n",
    "dt.fit(x_train,y_train)"
   ]
  },
  {
   "cell_type": "code",
   "execution_count": 77,
   "metadata": {},
   "outputs": [
    {
     "data": {
      "text/plain": [
       "MLPRegressor(random_state=5)"
      ]
     },
     "execution_count": 77,
     "metadata": {},
     "output_type": "execute_result"
    }
   ],
   "source": [
    "mlp = MLPRegressor(random_state = 5)\n",
    "mlp.fit(x_train,y_train)"
   ]
  },
  {
   "cell_type": "code",
   "execution_count": 78,
   "metadata": {},
   "outputs": [
    {
     "data": {
      "text/plain": [
       "SVR()"
      ]
     },
     "execution_count": 78,
     "metadata": {},
     "output_type": "execute_result"
    }
   ],
   "source": [
    "svr = svm.SVR()\n",
    "svr.fit(x_train,y_train)"
   ]
  },
  {
   "cell_type": "code",
   "execution_count": 79,
   "metadata": {},
   "outputs": [
    {
     "data": {
      "text/plain": [
       "RandomForestRegressor(random_state=5)"
      ]
     },
     "execution_count": 79,
     "metadata": {},
     "output_type": "execute_result"
    }
   ],
   "source": [
    "#create random forest\n",
    "rf = RandomForestRegressor(random_state = 5) \n",
    "rf.fit(x_train,y_train) "
   ]
  },
  {
   "cell_type": "code",
   "execution_count": 54,
   "metadata": {},
   "outputs": [
    {
     "data": {
      "text/plain": [
       "XGBRegressor(objective='reg:squarederror')"
      ]
     },
     "execution_count": 54,
     "metadata": {},
     "output_type": "execute_result"
    }
   ],
   "source": [
    "xgb = xgb.XGBRegressor(objective = 'reg:squarederror')\n",
    "xgb.fit(x_train,y_train)"
   ]
  },
  {
   "cell_type": "markdown",
   "metadata": {},
   "source": [
    "### 2.3 Evaluate and Improve the Model(s)"
   ]
  },
  {
   "cell_type": "code",
   "execution_count": null,
   "metadata": {},
   "outputs": [],
   "source": [
    "#evaluate all models using k folds cross validation because it is more accurate.\n",
    "mlp_results  = cross_validate(mlp, x, y, scoring='neg_root_mean_squared_error', cv=5, return_train_score = True)\n",
    "print('train_score: ', mlp_results['train_score'])\n",
    "print('test_score: ', mlp_results['test_score'])\n",
    "\n",
    "print('cross val training root mean_squared_error is:', sum(-mlp_results['train_score'])/len(mlp_results['train_score']))\n",
    "print('cross val testing root mean_squared_error is:', sum(-mlp_results['test_score'])/len(mlp_results['test_score']))"
   ]
  },
  {
   "cell_type": "code",
   "execution_count": null,
   "metadata": {},
   "outputs": [],
   "source": [
    "lm_results  = cross_validate(lm, x, y, scoring='neg_root_mean_squared_error', cv=5, return_train_score = True)\n",
    "print('train_score: ', lm_results['train_score'])\n",
    "print('test_score: ', lm_results['test_score'])\n",
    "\n",
    "print('cross val training root mean_squared_error is:', sum(-lm_results['train_score'])/len(lm_results['train_score']))\n",
    "print('cross val testing root mean_squared_error is:', sum(-lm_results['test_score'])/len(lm_results['test_score']))"
   ]
  },
  {
   "cell_type": "code",
   "execution_count": null,
   "metadata": {},
   "outputs": [],
   "source": [
    "dt_results  = cross_validate(dt, x, y, scoring='neg_root_mean_squared_error', cv=5, return_train_score = True)\n",
    "print('train_score: ', dt_results['train_score'])\n",
    "print('test_score: ', dt_results['test_score'])\n",
    "\n",
    "print('cross val training root mean_squared_error is:', sum(-dt_results['train_score'])/len(dt_results['train_score']))\n",
    "print('cross val testing root mean_squared_error is:', sum(-dt_results['test_score'])/len(dt_results['test_score']))"
   ]
  },
  {
   "cell_type": "code",
   "execution_count": null,
   "metadata": {},
   "outputs": [],
   "source": [
    "svr_results  = cross_validate(svr, x, y, scoring='neg_root_mean_squared_error', cv=5, return_train_score = True)\n",
    "print('train_score: ', svr_results['train_score'])\n",
    "print('test_score: ', svr_results['test_score'])\n",
    "\n",
    "print('cross val training mean_squared_error is:', sum(-svr_results['train_score'])/len(svr_results['train_score']))\n",
    "print('cross val testing mean_squared_error is:', sum(-svr_results['test_score'])/len(svr_results['test_score']))"
   ]
  },
  {
   "cell_type": "code",
   "execution_count": null,
   "metadata": {
    "scrolled": false
   },
   "outputs": [],
   "source": [
    "rf_results  = cross_validate(rf, x, y, scoring='neg_root_mean_squared_error', cv=5, return_train_score = True)\n",
    "print('train_score: ', rf_results['train_score'])\n",
    "print('test_score: ', rf_results['test_score'])\n",
    "\n",
    "print('cross val training root mean_squared_error is:', sum(-rf_results['train_score'])/len(rf_results['train_score']))\n",
    "print('cross val testing root mean_squared_error is:', sum(-rf_results['test_score'])/len(rf_results['test_score']))"
   ]
  },
  {
   "cell_type": "code",
   "execution_count": null,
   "metadata": {},
   "outputs": [],
   "source": [
    "xgb_results  = cross_validate(xgb, x, y, scoring='neg_root_mean_squared_error', cv=5, return_train_score = True)\n",
    "print('train_score: ', xgb_results['train_score'])\n",
    "print('test_score: ', xgb_results['test_score'])\n",
    "\n",
    "print('cross val training root mean_squared_error is:', sum(-xgb_results['train_score'])/len(xgb_results['train_score']))\n",
    "print('cross val testing root mean_squared_error is:', sum(-xgb_results['test_score'])/len(xgb_results['test_score']))"
   ]
  },
  {
   "cell_type": "markdown",
   "metadata": {},
   "source": [
    "### First Model: Random Forest Regressor"
   ]
  },
  {
   "cell_type": "code",
   "execution_count": 3,
   "metadata": {},
   "outputs": [
    {
     "ename": "NameError",
     "evalue": "name 'RandomForestRegressor' is not defined",
     "output_type": "error",
     "traceback": [
      "\u001b[1;31m---------------------------------------------------------------------------\u001b[0m",
      "\u001b[1;31mNameError\u001b[0m                                 Traceback (most recent call last)",
      "\u001b[1;32m<ipython-input-3-e551db1a7488>\u001b[0m in \u001b[0;36m<module>\u001b[1;34m\u001b[0m\n\u001b[1;32m----> 1\u001b[1;33m \u001b[0mrf_new\u001b[0m \u001b[1;33m=\u001b[0m \u001b[0mRandomForestRegressor\u001b[0m\u001b[1;33m(\u001b[0m\u001b[0mrandom_state\u001b[0m\u001b[1;33m=\u001b[0m\u001b[1;36m5\u001b[0m\u001b[1;33m,\u001b[0m \u001b[0mn_jobs\u001b[0m\u001b[1;33m=\u001b[0m\u001b[1;33m-\u001b[0m\u001b[1;36m1\u001b[0m\u001b[1;33m)\u001b[0m\u001b[1;33m\u001b[0m\u001b[1;33m\u001b[0m\u001b[0m\n\u001b[0m\u001b[0;32m      2\u001b[0m param_grid = {\n\u001b[0;32m      3\u001b[0m     \u001b[1;34m\"max_depth\"\u001b[0m\u001b[1;33m:\u001b[0m \u001b[1;33m[\u001b[0m\u001b[1;36m5\u001b[0m\u001b[1;33m,\u001b[0m \u001b[1;36m15\u001b[0m\u001b[1;33m,\u001b[0m \u001b[1;36m20\u001b[0m\u001b[1;33m]\u001b[0m\u001b[1;33m,\u001b[0m\u001b[1;33m\u001b[0m\u001b[1;33m\u001b[0m\u001b[0m\n\u001b[0;32m      4\u001b[0m     \u001b[1;34m\"criterion\"\u001b[0m\u001b[1;33m:\u001b[0m \u001b[1;33m[\u001b[0m\u001b[1;34m'mse'\u001b[0m\u001b[1;33m]\u001b[0m\u001b[1;33m,\u001b[0m\u001b[1;33m\u001b[0m\u001b[1;33m\u001b[0m\u001b[0m\n\u001b[0;32m      5\u001b[0m     \u001b[1;34m\"max_features\"\u001b[0m\u001b[1;33m:\u001b[0m \u001b[1;33m[\u001b[0m\u001b[1;34m\"auto\"\u001b[0m\u001b[1;33m,\u001b[0m \u001b[1;34m'sqrt'\u001b[0m\u001b[1;33m,\u001b[0m \u001b[1;34m'log2'\u001b[0m\u001b[1;33m]\u001b[0m\u001b[1;33m,\u001b[0m\u001b[1;33m\u001b[0m\u001b[1;33m\u001b[0m\u001b[0m\n",
      "\u001b[1;31mNameError\u001b[0m: name 'RandomForestRegressor' is not defined"
     ]
    }
   ],
   "source": [
    "rf_new = RandomForestRegressor(random_state=5, n_jobs=-1)\n",
    "param_grid = {\n",
    "    \"max_depth\": [5, 15, 20], \n",
    "    \"criterion\": ['mse'],\n",
    "    \"max_features\": [\"auto\", 'sqrt', 'log2'],\n",
    "    \"min_samples_leaf\" : [3, 5, 7, 9],\n",
    "    \"min_samples_split\": [3, 5, 7],  \n",
    "    \"n_estimators\": [50, 80, 110]} \n",
    "    \n",
    "rf_gs = GridSearchCV(estimator=rf_new, param_grid=param_grid, scoring='neg_root_mean_squared_error', cv=5, n_jobs=-1)\n",
    "rf_gs = rf_gs.fit(x, y)\n",
    "print(rf_gs.best_score_)\n",
    "print(rf_gs.best_params_)"
   ]
  },
  {
   "cell_type": "code",
   "execution_count": null,
   "metadata": {},
   "outputs": [],
   "source": [
    "rf_new = RandomForestRegressor(\n",
    "    criterion = 'mse',\n",
    "    max_depth = 15, \n",
    "    min_samples_leaf= 3,\n",
    "    min_samples_split=3, \n",
    "    n_estimators= 110,\n",
    "    n_jobs=-1,\n",
    "    random_state=5\n",
    "\n",
    ") \n",
    "rf_new.fit(x_train,y_train) \n",
    "rf_results  = cross_validate(rf_new, x, y, scoring='neg_root_mean_squared_error', cv=5, return_train_score = True)\n",
    "print('train_score: ', rf_results['train_score'])\n",
    "print('test_score: ', rf_results['test_score'])\n",
    "\n",
    "print('cross val training root mean_squared_error is:', sum(-rf_results['train_score'])/len(rf_results['train_score']))\n",
    "print('cross val testing root mean_squared_error is:', sum(-rf_results['test_score'])/len(rf_results['test_score']))"
   ]
  },
  {
   "cell_type": "code",
   "execution_count": null,
   "metadata": {},
   "outputs": [],
   "source": [
    "leaf_range = range(3,25)\n",
    "\n",
    "train_rmse = []\n",
    "test_rmse = []\n",
    "cross_val_train_rmse =[]\n",
    "cross_val_test_rmse =[]\n",
    "\n",
    "for d in leaf_range:\n",
    "    # Create Random Forest Model\n",
    "    rf_reg = RandomForestRegressor(max_depth=15, min_samples_leaf= d, min_samples_split= 3, n_jobs=-1, \n",
    "                                   random_state=5, n_estimators=110)\n",
    "    rf_reg.fit(x_train, y_train) \n",
    "    train_rmse.append(sqrt(mean_squared_error(rf_reg.predict(x_train), y_train)))\n",
    "    test_rmse.append(sqrt(mean_squared_error(rf_reg.predict(x_test), y_test)))\n",
    "    \n",
    "    results  = cross_validate(rf_reg, x, y, scoring='neg_root_mean_squared_error', cv=5, return_train_score = True)\n",
    "    cross_val_train_rmse.append(sum(-results['train_score'])/len(results['train_score']))\n",
    "    cross_val_test_rmse.append(sum(-results['test_score'])/len(results['test_score']))"
   ]
  },
  {
   "cell_type": "code",
   "execution_count": null,
   "metadata": {},
   "outputs": [],
   "source": [
    "plt.plot(leaf_range, train_rmse, 'bo-', label ='training rmse')\n",
    "plt.plot(leaf_range, test_rmse, 'ro-', label = 'testing rmse')\n",
    "\n",
    "plt.xlabel('min_samples_leaf', fontsize='x-large')\n",
    "plt.ylabel('root mean squared error (RMSE)', fontsize='x-large')\n",
    "\n",
    "plt.legend(loc='best', shadow=True, fontsize='x-large')\n",
    "plt.show()"
   ]
  },
  {
   "cell_type": "code",
   "execution_count": null,
   "metadata": {},
   "outputs": [],
   "source": [
    "leaf_range = range(20, 110, 10)\n",
    "\n",
    "train_rmse = []\n",
    "test_rmse = []\n",
    "cross_val_train_rmse =[]\n",
    "cross_val_test_rmse =[]\n",
    "\n",
    "for d in leaf_range:\n",
    "    # Create Random Forest Model\n",
    "    rf_reg = RandomForestRegressor(max_depth=15, min_samples_leaf= d, min_samples_split= 3, n_jobs=-1, \n",
    "                                   random_state=5, n_estimators=110)\n",
    "    rf_reg.fit(x_train, y_train) \n",
    "    train_rmse.append(sqrt(mean_squared_error(rf_reg.predict(x_train), y_train)))\n",
    "    test_rmse.append(sqrt(mean_squared_error(rf_reg.predict(x_test), y_test)))\n",
    "    \n",
    "    results  = cross_validate(rf_reg, x, y, scoring='neg_root_mean_squared_error', cv=5, return_train_score = True)\n",
    "    cross_val_train_rmse.append(sum(-results['train_score'])/len(results['train_score']))\n",
    "    cross_val_test_rmse.append(sum(-results['test_score'])/len(results['test_score']))"
   ]
  },
  {
   "cell_type": "code",
   "execution_count": null,
   "metadata": {},
   "outputs": [],
   "source": [
    "plt.plot(leaf_range, cross_val_train_rmse, 'bo-', label ='training rmse')\n",
    "plt.plot(leaf_range, cross_val_test_rmse, 'ro-', label = 'testing rmse')\n",
    "\n",
    "plt.xlabel('min_samples_leaf', fontsize='x-large')\n",
    "plt.ylabel('root mean squared error (RMSE)', fontsize='x-large')\n",
    "\n",
    "plt.legend(loc='best', shadow=True, fontsize='x-large')\n",
    "plt.show()"
   ]
  },
  {
   "cell_type": "code",
   "execution_count": null,
   "metadata": {},
   "outputs": [],
   "source": [
    "rf_new = RandomForestRegressor(\n",
    "    criterion = 'mse',\n",
    "    max_depth = 15, \n",
    "    min_samples_leaf= 100,\n",
    "    min_samples_split= 3, \n",
    "    n_estimators= 110,\n",
    "    n_jobs=-1,\n",
    "    random_state=5\n",
    "\n",
    ") \n",
    "rf_new.fit(x_train,y_train) \n",
    "rf_results  = cross_validate(rf_new, x, y, scoring='neg_root_mean_squared_error', cv=5, return_train_score = True)\n",
    "print('train_score: ', rf_results['train_score'])\n",
    "print('test_score: ', rf_results['test_score'])\n",
    "\n",
    "print('cross val training root mean_squared_error is:', sum(-rf_results['train_score'])/len(rf_results['train_score']))\n",
    "print('cross val testing root mean_squared_error is:', sum(-rf_results['test_score'])/len(rf_results['test_score']))"
   ]
  },
  {
   "cell_type": "code",
   "execution_count": null,
   "metadata": {},
   "outputs": [],
   "source": [
    "split_range = range(3, 25)\n",
    "\n",
    "train_rmse = []\n",
    "test_rmse = []\n",
    "cross_val_train_rmse =[]\n",
    "cross_val_test_rmse =[]\n",
    "\n",
    "for d in split_range:\n",
    "    # Create Random Forest Model\n",
    "    rf_reg = RandomForestRegressor(max_depth=15, min_samples_leaf= 100, min_samples_split= d, n_jobs=-1, \n",
    "                                   random_state=5, n_estimators=110)\n",
    "    rf_reg.fit(x_train, y_train) \n",
    "    train_rmse.append(sqrt(mean_squared_error(rf_reg.predict(x_train), y_train)))\n",
    "    test_rmse.append(sqrt(mean_squared_error(rf_reg.predict(x_test), y_test)))\n",
    "    \n",
    "    results  = cross_validate(rf_reg, x, y, scoring='neg_root_mean_squared_error', cv=5, return_train_score = True)\n",
    "    cross_val_train_rmse.append(sum(-results['train_score'])/len(results['train_score']))\n",
    "    cross_val_test_rmse.append(sum(-results['test_score'])/len(results['test_score']))"
   ]
  },
  {
   "cell_type": "code",
   "execution_count": null,
   "metadata": {},
   "outputs": [],
   "source": [
    "plt.plot(split_range, train_rmse, 'bo-', label ='training rmse')\n",
    "plt.plot(split_range, test_rmse, 'ro-', label = 'testing rmse')\n",
    "\n",
    "plt.xlabel('min_samples_split', fontsize='x-large')\n",
    "plt.ylabel('root mean squared error (RMSE)', fontsize='x-large')\n",
    "\n",
    "plt.legend(loc='best', shadow=True, fontsize='x-large')\n",
    "plt.show()"
   ]
  },
  {
   "cell_type": "code",
   "execution_count": null,
   "metadata": {},
   "outputs": [],
   "source": [
    "estimators_range = range(110, 310, 10)\n",
    "\n",
    "train_rmse = []\n",
    "test_rmse = []\n",
    "cross_val_train_rmse =[]\n",
    "cross_val_test_rmse =[]\n",
    "\n",
    "for d in estimators_range:\n",
    "    # Create Random Forest Model\n",
    "    rf_reg = RandomForestRegressor(max_depth=15, min_samples_leaf= 100, min_samples_split= 3, n_jobs=-1, \n",
    "                                   random_state=5, n_estimators=d)\n",
    "    rf_reg.fit(x_train, y_train) \n",
    "    train_rmse.append(sqrt(mean_squared_error(rf_reg.predict(x_train), y_train)))\n",
    "    test_rmse.append(sqrt(mean_squared_error(rf_reg.predict(x_test), y_test)))\n",
    "    \n",
    "    results  = cross_validate(rf_reg, x, y, scoring='neg_root_mean_squared_error', cv=5, return_train_score = True)\n",
    "    cross_val_train_rmse.append(sum(-results['train_score'])/len(results['train_score']))\n",
    "    cross_val_test_rmse.append(sum(-results['test_score'])/len(results['test_score']))"
   ]
  },
  {
   "cell_type": "code",
   "execution_count": null,
   "metadata": {},
   "outputs": [],
   "source": [
    "#this shows that the n_estimators does not really affect the training and testing rmse.\n",
    "#tus, i will not be making any changes to the existing value\n",
    "plt.plot(estimators_range, train_rmse, 'bo-', label ='training rmse')\n",
    "plt.plot(estimators_range, test_rmse, 'ro-', label = 'testing rmse')\n",
    "\n",
    "plt.xlabel('n_estimators', fontsize='x-large')\n",
    "plt.ylabel('root mean squared error (RMSE)', fontsize='x-large')\n",
    "\n",
    "plt.legend(loc='best', shadow=True, fontsize='x-large')\n",
    "plt.show()"
   ]
  },
  {
   "cell_type": "code",
   "execution_count": null,
   "metadata": {},
   "outputs": [],
   "source": [
    "depth_range = range(1, 20)\n",
    "\n",
    "train_rmse = []\n",
    "test_rmse = []\n",
    "cross_val_train_rmse =[]\n",
    "cross_val_test_rmse =[]\n",
    "\n",
    "for d in depth_range:\n",
    "    # Create Random Forest Model\n",
    "    rf_reg = RandomForestRegressor(max_depth=d, min_samples_leaf= 100, min_samples_split= 3, n_jobs=-1, \n",
    "                                   random_state=5, n_estimators=110)\n",
    "    rf_reg.fit(x_train, y_train) \n",
    "    train_rmse.append(sqrt(mean_squared_error(rf_reg.predict(x_train), y_train)))\n",
    "    test_rmse.append(sqrt(mean_squared_error(rf_reg.predict(x_test), y_test)))\n",
    "    \n",
    "    results  = cross_validate(rf_reg, x, y, scoring='neg_root_mean_squared_error', cv=5, return_train_score = True)\n",
    "    cross_val_train_rmse.append(sum(-results['train_score'])/len(results['train_score']))\n",
    "    cross_val_test_rmse.append(sum(-results['test_score'])/len(results['test_score']))"
   ]
  },
  {
   "cell_type": "code",
   "execution_count": null,
   "metadata": {},
   "outputs": [],
   "source": [
    "# Plot the simple split measures (train_mse & test_mse) \n",
    "plt.plot(depth_range, train_rmse, 'bo-', label ='training rmse')\n",
    "plt.plot(depth_range, test_rmse, 'ro-', label = 'testing rmse')\n",
    "\n",
    "plt.xlabel('max_depth', fontsize='x-large')\n",
    "plt.ylabel('root mean squared error (RMSE)', fontsize='x-large')\n",
    "\n",
    "plt.legend(loc='best', shadow=True, fontsize='x-large')\n",
    "plt.show()"
   ]
  },
  {
   "cell_type": "code",
   "execution_count": 53,
   "metadata": {},
   "outputs": [
    {
     "name": "stdout",
     "output_type": "stream",
     "text": [
      "train_score:  [-60.91126457 -60.84943357 -59.27404656 -60.01200197 -57.63562481]\n",
      "test_score:  [-59.57970533 -57.86250508 -62.77198028 -60.18329827 -72.6698325 ]\n",
      "cross val training root mean_squared_error is: 59.73647429613517\n",
      "cross val testing root mean_squared_error is: 62.613464291567865\n"
     ]
    }
   ],
   "source": [
    "rf_new = RandomForestRegressor(\n",
    "    criterion = 'mse',\n",
    "    max_depth = 4, \n",
    "    min_samples_leaf= 100,\n",
    "    min_samples_split= 3, \n",
    "    n_estimators= 110,\n",
    "    n_jobs=-1,\n",
    "    random_state=5\n",
    "\n",
    ") \n",
    "rf_new.fit(x_train,y_train) \n",
    "rf_results  = cross_validate(rf_new, x, y, scoring='neg_root_mean_squared_error', cv=5, return_train_score = True)\n",
    "print('train_score: ', rf_results['train_score'])\n",
    "print('test_score: ', rf_results['test_score'])\n",
    "\n",
    "print('cross val training root mean_squared_error is:', sum(-rf_results['train_score'])/len(rf_results['train_score']))\n",
    "print('cross val testing root mean_squared_error is:', sum(-rf_results['test_score'])/len(rf_results['test_score']))"
   ]
  },
  {
   "cell_type": "markdown",
   "metadata": {},
   "source": [
    "### Second Model: XGBoost Regressor"
   ]
  },
  {
   "cell_type": "code",
   "execution_count": null,
   "metadata": {},
   "outputs": [],
   "source": [
    "xgb_new = xgb.XGBRegressor(random_state=4, n_jobs=-1, objective = 'reg:squarederror')\n",
    "param_grid = {\n",
    "    \"max_depth\": [4, 6, 12], #default is 6, Used to control over-fitting as higher depth will allow model to learn relations very specific to a particular sample.\n",
    "    \"learning_rate\": [0.1, 0.2, 0.3, 0.5], #default is 0.3, higher will make it more complex\n",
    "    \"gamma\": [0, 0.1, 0.3, 0.5], #default is 0\n",
    "    \"min_child_weight \": [0.1, 0.5, 1], #default is 1, The larger min_child_weight is, the more conservative the algorithm will be.\n",
    "    \"subsample\": [0.6, 0.7, 0.9],\n",
    "    \"colsample_bytree\": [0.6, 0.7, 0.9],\n",
    "}\n",
    "xgb_gs = GridSearchCV(estimator=xgb_new, param_grid=param_grid, scoring='neg_root_mean_squared_error', cv=5, n_jobs=-1)\n",
    "xgb_gs = xgb_gs.fit(x, y)\n",
    "print(xgb_gs.best_score_)\n",
    "print(xgb_gs.best_params_)"
   ]
  },
  {
   "cell_type": "code",
   "execution_count": null,
   "metadata": {},
   "outputs": [],
   "source": [
    "xgb_new = xgb.XGBRegressor(\n",
    "    colsample_bytree=0.9, \n",
    "    gamma=0.1,\n",
    "    learning_rate= 0.1,\n",
    "    max_depth=6, \n",
    "    min_child_weight= 0.1, \n",
    "    subsample =  0.9,\n",
    "    objective = 'reg:squarederror',\n",
    "    random_state=4, n_jobs=-1)\n",
    "\n",
    "xgb_new.fit(x_train,y_train) \n",
    "xgb_results  = cross_validate(xgb_new, x, y, scoring='neg_root_mean_squared_error', cv=5, return_train_score = True)\n",
    "print('train_score: ', xgb_results['train_score'])\n",
    "print('test_score: ', xgb_results['test_score'])\n",
    "\n",
    "print('cross val training root mean_squared_error is:', sum(-xgb_results['train_score'])/len(xgb_results['train_score']))\n",
    "print('cross val testing root mean_squared_error is:', sum(-xgb_results['test_score'])/len(xgb_results['test_score']))"
   ]
  },
  {
   "cell_type": "code",
   "execution_count": null,
   "metadata": {},
   "outputs": [],
   "source": [
    "learning_range = [i/100 for i in range(0,5)]\n",
    "train_rmse = []\n",
    "test_rmse = []\n",
    "cross_val_train_rmse =[]\n",
    "cross_val_test_rmse =[]\n",
    "\n",
    "for d in learning_range:\n",
    "    # Create Random Forest Model\n",
    "    xgb_tune = xgb.XGBRegressor(  \n",
    "    colsample_bytree= 0.9,\n",
    "    max_depth = 6,\n",
    "    gamma = 0.1,\n",
    "    learning_rate = d,\n",
    "    min_child_weight = 0.1,\n",
    "    subsample=0.9,\n",
    "    random_state=4,\n",
    "    objective = 'reg:squarederror',\n",
    "    n_jobs=-1)\n",
    "    \n",
    "    xgb_tune.fit(x_train, y_train) \n",
    "    train_rmse.append(sqrt(mean_squared_error(xgb_tune.predict(x_train), y_train)))\n",
    "    test_rmse.append(sqrt(mean_squared_error(xgb_tune.predict(x_test), y_test)))\n",
    "    \n",
    "    results  = cross_validate(xgb_tune, x, y, scoring='neg_root_mean_squared_error', cv=5, return_train_score = True)\n",
    "    cross_val_train_rmse.append(sum(-results['train_score'])/len(results['train_score']))\n",
    "    cross_val_test_rmse.append(sum(-results['test_score'])/len(results['test_score']))\n"
   ]
  },
  {
   "cell_type": "code",
   "execution_count": null,
   "metadata": {},
   "outputs": [],
   "source": [
    "plt.plot(learning_range, cross_val_train_rmse, 'bo-', label ='training rmse')\n",
    "plt.plot(learning_range, cross_val_test_rmse, 'ro-', label = 'testing rmse')\n",
    "\n",
    "plt.xlabel('learning rate', fontsize='x-large')\n",
    "plt.ylabel('root mean squared error (RMSE)', fontsize='x-large')\n",
    "\n",
    "plt.legend(loc='best', shadow=True, fontsize='x-large')\n",
    "plt.show()"
   ]
  },
  {
   "cell_type": "code",
   "execution_count": null,
   "metadata": {},
   "outputs": [],
   "source": [
    "xgb_new = xgb.XGBRegressor(\n",
    "    colsample_bytree=0.9, \n",
    "    gamma=0.1,\n",
    "    learning_rate= 0.02,\n",
    "    max_depth= 6, \n",
    "    min_child_weight= 0.1, \n",
    "    subsample =  0.9,\n",
    "    objective = 'reg:squarederror',\n",
    "    random_state=4, n_jobs=-1)\n",
    "\n",
    "xgb_new.fit(x_train,y_train) \n",
    "xgb_results  = cross_validate(xgb_new, x, y, scoring='neg_root_mean_squared_error', cv=5, return_train_score = True)\n",
    "print('train_score: ', xgb_results['train_score'])\n",
    "print('test_score: ', xgb_results['test_score'])\n",
    "\n",
    "print('cross val training root mean_squared_error is:', sum(-xgb_results['train_score'])/len(xgb_results['train_score']))\n",
    "print('cross val testing root mean_squared_error is:', sum(-xgb_results['test_score'])/len(xgb_results['test_score']))"
   ]
  },
  {
   "cell_type": "code",
   "execution_count": null,
   "metadata": {},
   "outputs": [],
   "source": [
    "depth_range = range(1, 15)\n",
    "train_rmse = []\n",
    "test_rmse = []\n",
    "cross_val_train_rmse =[]\n",
    "cross_val_test_rmse =[]\n",
    "\n",
    "for d in depth_range:\n",
    "    # Create Random Forest Model\n",
    "    xgb_tune = xgb.XGBRegressor(  \n",
    "    colsample_bytree= 0.9,\n",
    "    max_depth = d,\n",
    "    gamma = 0.1,\n",
    "    learning_rate = 0.02,\n",
    "    min_child_weight = 0.1,\n",
    "    subsample=0.9,\n",
    "        objective = 'reg:squarederror',\n",
    "    random_state=4,\n",
    "    n_jobs=-1)\n",
    "    \n",
    "    xgb_tune.fit(x_train, y_train) \n",
    "    train_rmse.append(sqrt(mean_squared_error(xgb_tune.predict(x_train), y_train)))\n",
    "    test_rmse.append(sqrt(mean_squared_error(xgb_tune.predict(x_test), y_test)))\n",
    "    \n",
    "    results  = cross_validate(xgb_tune, x, y, scoring='neg_root_mean_squared_error', cv=5, return_train_score = True)\n",
    "    cross_val_train_rmse.append(sum(-results['train_score'])/len(results['train_score']))\n",
    "    cross_val_test_rmse.append(sum(-results['test_score'])/len(results['test_score']))"
   ]
  },
  {
   "cell_type": "code",
   "execution_count": null,
   "metadata": {},
   "outputs": [],
   "source": [
    "plt.plot(depth_range, cross_val_train_rmse, 'bo-', label ='training rmse')\n",
    "plt.plot(depth_range, cross_val_test_rmse, 'ro-', label = 'testing rmse')\n",
    "\n",
    "plt.xlabel('max_depth', fontsize='x-large')\n",
    "plt.ylabel('root mean squared error (RMSE)', fontsize='x-large')\n",
    "\n",
    "plt.legend(loc='best', shadow=True, fontsize='x-large')\n",
    "plt.show()"
   ]
  },
  {
   "cell_type": "code",
   "execution_count": null,
   "metadata": {},
   "outputs": [],
   "source": [
    "xgb_new = xgb.XGBRegressor(\n",
    "    colsample_bytree=0.9, \n",
    "    gamma=0.1,\n",
    "    learning_rate= 0.03,\n",
    "    max_depth= 3, \n",
    "    min_child_weight= 0.1, \n",
    "    subsample =  0.9,\n",
    "    objective = 'reg:squarederror',\n",
    "    random_state=4, n_jobs=-1, )\n",
    "\n",
    "xgb_new.fit(x_train,y_train) \n",
    "xgb_results  = cross_validate(xgb_new, x, y, scoring='neg_root_mean_squared_error', cv=5, return_train_score = True)\n",
    "print('train_score: ', xgb_results['train_score'])\n",
    "print('test_score: ', xgb_results['test_score'])\n",
    "\n",
    "print('cross val training root mean_squared_error is:', sum(-xgb_results['train_score'])/len(xgb_results['train_score']))\n",
    "print('cross val testing root mean_squared_error is:', sum(-xgb_results['test_score'])/len(xgb_results['test_score']))"
   ]
  },
  {
   "cell_type": "code",
   "execution_count": 13,
   "metadata": {},
   "outputs": [],
   "source": [
    "weight_range = [i/10.0 for i in range(1,11)]\n",
    "train_rmse = []\n",
    "test_rmse = []\n",
    "cross_val_train_rmse =[]\n",
    "cross_val_test_rmse =[]\n",
    "\n",
    "for d in weight_range:\n",
    "    # Create Random Forest Model\n",
    "    xgb_tune = xgb.XGBRegressor(  \n",
    "    colsample_bytree= 0.9,\n",
    "    max_depth = 3,\n",
    "    gamma = 0.1,\n",
    "    learning_rate = 0.03,\n",
    "    min_child_weight = d,\n",
    "    subsample=0.9,\n",
    "    objective = 'reg:squarederror',\n",
    "    random_state=4,\n",
    "    n_jobs=-1)\n",
    "    \n",
    "    xgb_tune.fit(x_train, y_train) \n",
    "    train_rmse.append(sqrt(mean_squared_error(xgb_tune.predict(x_train), y_train)))\n",
    "    test_rmse.append(sqrt(mean_squared_error(xgb_tune.predict(x_test), y_test)))\n",
    "    \n",
    "    results  = cross_validate(xgb_tune, x, y, scoring='neg_root_mean_squared_error', cv=5, return_train_score = True)\n",
    "    cross_val_train_rmse.append(sum(-results['train_score'])/len(results['train_score']))\n",
    "    cross_val_test_rmse.append(sum(-results['test_score'])/len(results['test_score']))"
   ]
  },
  {
   "cell_type": "code",
   "execution_count": 14,
   "metadata": {},
   "outputs": [
    {
     "data": {
      "image/png": "[encoded data removed]",
      "text/plain": [
       "<Figure size 432x288 with 1 Axes>"
      ]
     },
     "metadata": {
      "needs_background": "light"
     },
     "output_type": "display_data"
    }
   ],
   "source": [
    "plt.plot(weight_range, train_rmse, 'bo-', label ='training rmse')\n",
    "plt.plot(weight_range, test_rmse, 'ro-', label = 'testing rmse')\n",
    "\n",
    "plt.xlabel('min_child_weight', fontsize='x-large')\n",
    "plt.ylabel('root mean squared error (RMSE)', fontsize='x-large')\n",
    "\n",
    "plt.legend(loc='best', shadow=True, fontsize='x-large')\n",
    "plt.show()"
   ]
  },
  {
   "cell_type": "code",
   "execution_count": 15,
   "metadata": {},
   "outputs": [],
   "source": [
    "gamma_range = [i/100 for i in range(1,21)]\n",
    "train_rmse = []\n",
    "test_rmse = []\n",
    "cross_val_train_rmse =[]\n",
    "cross_val_test_rmse =[]\n",
    "\n",
    "for d in gamma_range:\n",
    "    # Create Random Forest Model\n",
    "    xgb_tune = xgb.XGBRegressor(  \n",
    "    colsample_bytree= 0.9,\n",
    "    max_depth =3,\n",
    "    gamma = d,\n",
    "    learning_rate = 0.03,\n",
    "    min_child_weight = 0.1,\n",
    "    subsample=0.9,\n",
    "    objective = 'reg:squarederror',\n",
    "    random_state=4,\n",
    "    n_jobs=-1)\n",
    "    \n",
    "    xgb_tune.fit(x_train, y_train) \n",
    "    train_rmse.append(sqrt(mean_squared_error(xgb_tune.predict(x_train), y_train)))\n",
    "    test_rmse.append(sqrt(mean_squared_error(xgb_tune.predict(x_test), y_test)))\n",
    "    \n",
    "    results  = cross_validate(xgb_tune, x, y, scoring='neg_root_mean_squared_error', cv=5, return_train_score = True)\n",
    "    cross_val_train_rmse.append(sum(-results['train_score'])/len(results['train_score']))\n",
    "    cross_val_test_rmse.append(sum(-results['test_score'])/len(results['test_score']))"
   ]
  },
  {
   "cell_type": "code",
   "execution_count": 16,
   "metadata": {},
   "outputs": [
    {
     "data": {
      "image/png": "[encoded data removed]",
      "text/plain": [
       "<Figure size 432x288 with 1 Axes>"
      ]
     },
     "metadata": {
      "needs_background": "light"
     },
     "output_type": "display_data"
    }
   ],
   "source": [
    "plt.plot(gamma_range, train_rmse, 'bo-', label ='training rmse')\n",
    "plt.plot(gamma_range, test_rmse, 'ro-', label = 'testing rmse')\n",
    "\n",
    "plt.xlabel('gamma', fontsize='x-large')\n",
    "plt.ylabel('root mean squared error (RMSE)', fontsize='x-large')\n",
    "\n",
    "plt.legend(loc='best', shadow=True, fontsize='x-large')\n",
    "plt.show()"
   ]
  },
  {
   "cell_type": "code",
   "execution_count": 17,
   "metadata": {},
   "outputs": [],
   "source": [
    "subsample_range = [i/10 for i in range(1,11)]\n",
    "train_rmse = []\n",
    "test_rmse = []\n",
    "cross_val_train_rmse =[]\n",
    "cross_val_test_rmse =[]\n",
    "\n",
    "for d in subsample_range:\n",
    "    # Create Random Forest Model\n",
    "    xgb_tune = xgb.XGBRegressor(  \n",
    "    colsample_bytree= 0.9,\n",
    "    max_depth = 3,\n",
    "    gamma = 0.1,\n",
    "    learning_rate = 0.03,\n",
    "    min_child_weight = 0.1,\n",
    "    subsample=d,\n",
    "    objective = 'reg:squarederror',\n",
    "    random_state=4,\n",
    "    n_jobs=-1)\n",
    "    \n",
    "    xgb_tune.fit(x_train, y_train) \n",
    "    train_rmse.append(sqrt(mean_squared_error(xgb_tune.predict(x_train), y_train)))\n",
    "    test_rmse.append(sqrt(mean_squared_error(xgb_tune.predict(x_test), y_test)))\n",
    "    \n",
    "    results  = cross_validate(xgb_tune, x, y, scoring='neg_root_mean_squared_error', cv=5, return_train_score = True)\n",
    "    cross_val_train_rmse.append(sum(-results['train_score'])/len(results['train_score']))\n",
    "    cross_val_test_rmse.append(sum(-results['test_score'])/len(results['test_score']))"
   ]
  },
  {
   "cell_type": "code",
   "execution_count": 18,
   "metadata": {},
   "outputs": [
    {
     "data": {
      "image/png": "[encoded data removed]",
      "text/plain": [
       "<Figure size 432x288 with 1 Axes>"
      ]
     },
     "metadata": {
      "needs_background": "light"
     },
     "output_type": "display_data"
    }
   ],
   "source": [
    "plt.plot(subsample_range, train_rmse, 'bo-', label ='training rmse')\n",
    "plt.plot(subsample_range, test_rmse, 'ro-', label = 'testing rmse')\n",
    "\n",
    "plt.xlabel('subsample', fontsize='x-large')\n",
    "plt.ylabel('root mean squared error (RMSE)', fontsize='x-large')\n",
    "\n",
    "plt.legend(loc='best', shadow=True, fontsize='x-large')\n",
    "plt.show()"
   ]
  },
  {
   "cell_type": "code",
   "execution_count": null,
   "metadata": {},
   "outputs": [],
   "source": [
    "xgb_new = xgb.XGBRegressor(\n",
    "    colsample_bytree=0.9, \n",
    "    gamma=0.1,\n",
    "    learning_rate= 0.03,\n",
    "    max_depth= 3, \n",
    "    min_child_weight= 0.1, \n",
    "    subsample =  0.8,\n",
    "    objective = 'reg:squarederror',\n",
    "    random_state=4, n_jobs=-1, )\n",
    "\n",
    "xgb_new.fit(x_train,y_train) \n",
    "rf_results  = cross_validate(xgb_new, x, y, scoring='neg_root_mean_squared_error', cv=5, return_train_score = True)\n",
    "print('train_score: ', rf_results['train_score'])\n",
    "print('test_score: ', rf_results['test_score'])\n",
    "\n",
    "print('cross val training root mean_squared_error is:', sum(-rf_results['train_score'])/len(rf_results['train_score']))\n",
    "print('cross val testing root mean_squared_error is:', sum(-rf_results['test_score'])/len(rf_results['test_score']))"
   ]
  },
  {
   "cell_type": "code",
   "execution_count": null,
   "metadata": {},
   "outputs": [],
   "source": [
    "colsample_range = [i/10 for i in range(1,11)]\n",
    "train_rmse = []\n",
    "test_rmse = []\n",
    "cross_val_train_rmse =[]\n",
    "cross_val_test_rmse =[]\n",
    "\n",
    "for d in colsample_range:\n",
    "    # Create Random Forest Model\n",
    "    xgb_tune = xgb.XGBRegressor(  \n",
    "    colsample_bytree= d,\n",
    "    max_depth = 3,\n",
    "    gamma = 0.1,\n",
    "    learning_rate = 0.03,\n",
    "    min_child_weight = 0.1,\n",
    "    subsample=0.8,\n",
    "    objective = 'reg:squarederror',\n",
    "    random_state=4,\n",
    "    n_jobs=-1)\n",
    "    \n",
    "    xgb_tune.fit(x_train, y_train) \n",
    "    train_rmse.append(sqrt(mean_squared_error(xgb_tune.predict(x_train), y_train)))\n",
    "    test_rmse.append(sqrt(mean_squared_error(xgb_tune.predict(x_test), y_test)))\n",
    "    \n",
    "    results  = cross_validate(xgb_tune, x, y, scoring='neg_root_mean_squared_error', cv=5, return_train_score = True)\n",
    "    cross_val_train_rmse.append(sum(-results['train_score'])/len(results['train_score']))\n",
    "    cross_val_test_rmse.append(sum(-results['test_score'])/len(results['test_score']))"
   ]
  },
  {
   "cell_type": "code",
   "execution_count": null,
   "metadata": {},
   "outputs": [],
   "source": [
    "plt.plot(colsample_range, train_rmse, 'bo-', label ='training rmse')\n",
    "plt.plot(colsample_range, test_rmse, 'ro-', label = 'testing rmse')\n",
    "\n",
    "plt.xlabel('colsample_bytree', fontsize='x-large')\n",
    "plt.ylabel('root mean squared error (RMSE)', fontsize='x-large')\n",
    "\n",
    "plt.legend(loc='best', shadow=True, fontsize='x-large')\n",
    "plt.show()"
   ]
  },
  {
   "cell_type": "code",
   "execution_count": null,
   "metadata": {},
   "outputs": [],
   "source": [
    "xgb_new = xgb.XGBRegressor(\n",
    "    colsample_bytree=1, \n",
    "    gamma=0.1,\n",
    "    learning_rate= 0.03,\n",
    "    max_depth= 3, \n",
    "    min_child_weight= 0.1, \n",
    "    subsample =  0.9,\n",
    "    objective = 'reg:squarederror',\n",
    "    random_state=4, n_jobs=-1, )\n",
    "\n",
    "xgb_new.fit(x_train,y_train) \n",
    "xgb_results  = cross_validate(xgb_new, x, y, scoring='neg_root_mean_squared_error', cv=5, return_train_score = True)\n",
    "print('train_score: ', xgb_results['train_score'])\n",
    "print('test_score: ', xgb_results['test_score'])\n",
    "\n",
    "print('cross val training root mean_squared_error is:', sum(-xgb_results['train_score'])/len(xgb_results['train_score']))\n",
    "print('cross val testing root mean_squared_error is:', sum(-xgb_results['test_score'])/len(xgb_results['test_score']))"
   ]
  },
  {
   "cell_type": "markdown",
   "metadata": {},
   "source": [
    "### Third Model: SVR"
   ]
  },
  {
   "cell_type": "code",
   "execution_count": null,
   "metadata": {},
   "outputs": [],
   "source": [
    "svr_new = svm.SVR()\n",
    "param_grid = {\n",
    "    'kernel': ['linear', 'poly', 'rbf', 'sigmoid'],\n",
    "    'C': [0.1, 1, 10, 100, 1000]\n",
    "}\n",
    "svr_gs = GridSearchCV(estimator=svr_new, param_grid=param_grid, scoring='neg_root_mean_squared_error', cv=5, n_jobs=-1)\n",
    "svr_gs = svr_gs.fit(x, y)\n",
    "print(svr_gs.best_score_)\n",
    "print(svr_gs.best_params_)"
   ]
  },
  {
   "cell_type": "code",
   "execution_count": null,
   "metadata": {},
   "outputs": [],
   "source": [
    "svr_new = svm.SVR()\n",
    "param_grid = {\n",
    "    'kernel': ['rbf'],\n",
    "    'C': [1, 10, 100, 1000, 10000],\n",
    "    'gamma': [0.01, 0.1, 1, 10, 100]\n",
    "}\n",
    "svr_gs = GridSearchCV(estimator=svr_new, param_grid=param_grid, scoring='neg_root_mean_squared_error', cv=5, n_jobs=-1)\n",
    "svr_gs = svr_gs.fit(x, y)\n",
    "print(svr_gs.best_score_)\n",
    "print(svr_gs.best_params_)"
   ]
  },
  {
   "cell_type": "code",
   "execution_count": null,
   "metadata": {},
   "outputs": [],
   "source": [
    "svr_new = svm.SVR(C=1000, gamma=1, kernel='rbf')\n",
    "svr_new.fit(x_train,y_train)\n",
    "\n",
    "svr_results  = cross_validate(svr_new, x, y, scoring='neg_root_mean_squared_error', cv=5, return_train_score = True)\n",
    "print('train_score: ', svr_results['train_score'])\n",
    "print('test_score: ', svr_results['test_score'])\n",
    "\n",
    "print('cross val training root mean_squared_error is:', sum(-svr_results['train_score'])/len(svr_results['train_score']))\n",
    "print('cross val testing root mean_squared_error is:', sum(-svr_results['test_score'])/len(svr_results['test_score']))"
   ]
  },
  {
   "cell_type": "code",
   "execution_count": 49,
   "metadata": {},
   "outputs": [],
   "source": [
    "C_range = range(100, 1000, 100)\n",
    "train_rmse = []\n",
    "test_rmse = []\n",
    "cross_val_train_rmse =[]\n",
    "cross_val_test_rmse =[]\n",
    "\n",
    "for d in C_range:\n",
    "    svr_tune = svm.SVR(C=d, kernel='rbf', gamma=1)\n",
    "\n",
    "    svr_tune.fit(x_train, y_train) \n",
    "    train_rmse.append(sqrt(mean_squared_error(svr_tune.predict(x_train), y_train)))\n",
    "    test_rmse.append(sqrt(mean_squared_error(svr_tune.predict(x_test), y_test)))\n",
    "    \n",
    "    results  = cross_validate(svr_tune, x, y, scoring='neg_root_mean_squared_error', cv=5, return_train_score = True)\n",
    "    cross_val_train_rmse.append(sum(-results['train_score'])/len(results['train_score']))\n",
    "    cross_val_test_rmse.append(sum(-results['test_score'])/len(results['test_score']))"
   ]
  },
  {
   "cell_type": "code",
   "execution_count": 50,
   "metadata": {
    "scrolled": true
   },
   "outputs": [
    {
     "data": {
      "image/png": "[encoded data removed]",
      "text/plain": [
       "<Figure size 432x288 with 1 Axes>"
      ]
     },
     "metadata": {
      "needs_background": "light"
     },
     "output_type": "display_data"
    }
   ],
   "source": [
    "plt.plot(C_range, cross_val_train_rmse, 'bo-', label ='training rmse')\n",
    "plt.plot(C_range, cross_val_test_rmse, 'ro-', label = 'testing rmse')\n",
    "\n",
    "plt.xlabel('C value', fontsize='x-large')\n",
    "plt.ylabel('root mean squared error (RMSE)', fontsize='x-large')\n",
    "\n",
    "plt.legend(loc='best', shadow=True, fontsize='x-large')\n",
    "plt.show()"
   ]
  },
  {
   "cell_type": "code",
   "execution_count": 47,
   "metadata": {},
   "outputs": [
    {
     "name": "stdout",
     "output_type": "stream",
     "text": [
      "train_score:  [-59.14592683 -58.43320362 -56.75753067 -57.28661829 -55.19236801]\n",
      "test_score:  [-59.87210507 -57.8896563  -65.66682178 -60.69313005 -73.93124557]\n",
      "cross val training root mean_squared_error is: 57.363129483202535\n",
      "cross val testing root mean_squared_error is: 63.61059175449742\n"
     ]
    }
   ],
   "source": [
    "svr_new = svm.SVR(C=300, gamma=1, kernel='rbf')\n",
    "svr_new.fit(x_train,y_train)\n",
    "\n",
    "svr_results  = cross_validate(svr_new, x, y, scoring='neg_root_mean_squared_error', cv=5, return_train_score = True)\n",
    "print('train_score: ', svr_results['train_score'])\n",
    "print('test_score: ', svr_results['test_score'])\n",
    "\n",
    "print('cross val training root mean_squared_error is:', sum(-svr_results['train_score'])/len(svr_results['train_score']))\n",
    "print('cross val testing root mean_squared_error is:', sum(-svr_results['test_score'])/len(svr_results['test_score']))"
   ]
  },
  {
   "cell_type": "code",
   "execution_count": 41,
   "metadata": {},
   "outputs": [],
   "source": [
    "gamma_range = [i/10.0 for i in range(1,11)]\n",
    "train_rmse = []\n",
    "test_rmse = []\n",
    "cross_val_train_rmse =[]\n",
    "cross_val_test_rmse =[]\n",
    "\n",
    "for d in gamma_range:\n",
    "    svr_tune = svm.SVR(C=300, kernel='rbf', gamma=d)\n",
    "\n",
    "    svr_tune.fit(x_train, y_train) \n",
    "    train_rmse.append(sqrt(mean_squared_error(svr_tune.predict(x_train), y_train)))\n",
    "    test_rmse.append(sqrt(mean_squared_error(svr_tune.predict(x_test), y_test)))\n",
    "    \n",
    "    results  = cross_validate(svr_tune, x, y, scoring='neg_root_mean_squared_error', cv=5, return_train_score = True)\n",
    "    cross_val_train_rmse.append(sum(-results['train_score'])/len(results['train_score']))\n",
    "    cross_val_test_rmse.append(sum(-results['test_score'])/len(results['test_score']))"
   ]
  },
  {
   "cell_type": "code",
   "execution_count": 42,
   "metadata": {},
   "outputs": [
    {
     "data": {
      "image/png": "[encoded data removed]",
      "text/plain": [
       "<Figure size 432x288 with 1 Axes>"
      ]
     },
     "metadata": {
      "needs_background": "light"
     },
     "output_type": "display_data"
    }
   ],
   "source": [
    "plt.plot(gamma_range, cross_val_train_rmse, 'bo-', label ='training rmse')\n",
    "plt.plot(gamma_range, cross_val_test_rmse, 'ro-', label = 'testing rmse')\n",
    "\n",
    "plt.xlabel('gamma', fontsize='x-large')\n",
    "plt.ylabel('root mean squared error (RMSE)', fontsize='x-large')\n",
    "\n",
    "plt.legend(loc='best', shadow=True, fontsize='x-large')\n",
    "plt.show()"
   ]
  },
  {
   "cell_type": "code",
   "execution_count": 48,
   "metadata": {},
   "outputs": [
    {
     "name": "stdout",
     "output_type": "stream",
     "text": [
      "train_score:  [-66.00678521 -65.40149742 -64.26473078 -64.90569518 -62.30400852]\n",
      "test_score:  [-61.52906742 -60.22301786 -66.61081161 -67.16699561 -77.32505389]\n",
      "cross val training root mean_squared_error is: 64.57654342134336\n",
      "cross val testing root mean_squared_error is: 66.57098927885865\n"
     ]
    }
   ],
   "source": [
    "svr_new = svm.SVR(C=300, gamma=0.1, kernel='rbf')\n",
    "svr_new.fit(x_train,y_train)\n",
    "\n",
    "svr_results  = cross_validate(svr_new, x, y.ravel(), scoring='neg_root_mean_squared_error', cv=5, return_train_score = True)\n",
    "print('train_score: ', svr_results['train_score'])\n",
    "print('test_score: ', svr_results['test_score'])\n",
    "\n",
    "print('cross val training root mean_squared_error is:', sum(-svr_results['train_score'])/len(svr_results['train_score']))\n",
    "print('cross val testing root mean_squared_error is:', sum(-svr_results['test_score'])/len(svr_results['test_score']))"
   ]
  },
  {
   "cell_type": "markdown",
   "metadata": {},
   "source": [
    "### Dropping Irrelevant Columns"
   ]
  },
  {
   "cell_type": "code",
   "execution_count": 37,
   "metadata": {},
   "outputs": [
    {
     "data": {
      "text/html": [
       "<table class=\"simpletable\">\n",
       "<caption>OLS Regression Results</caption>\n",
       "<tr>\n",
       "  <th>Dep. Variable:</th>          <td>price</td>      <th>  R-squared (uncentered):</th>      <td>   0.847</td> \n",
       "</tr>\n",
       "<tr>\n",
       "  <th>Model:</th>                   <td>OLS</td>       <th>  Adj. R-squared (uncentered):</th> <td>   0.846</td> \n",
       "</tr>\n",
       "<tr>\n",
       "  <th>Method:</th>             <td>Least Squares</td>  <th>  F-statistic:       </th>          <td>   1273.</td> \n",
       "</tr>\n",
       "<tr>\n",
       "  <th>Date:</th>             <td>Sun, 14 Feb 2021</td> <th>  Prob (F-statistic):</th>           <td>  0.00</td>  \n",
       "</tr>\n",
       "<tr>\n",
       "  <th>Time:</th>                 <td>13:33:47</td>     <th>  Log-Likelihood:    </th>          <td> -15496.</td> \n",
       "</tr>\n",
       "<tr>\n",
       "  <th>No. Observations:</th>      <td>  2780</td>      <th>  AIC:               </th>          <td>3.102e+04</td>\n",
       "</tr>\n",
       "<tr>\n",
       "  <th>Df Residuals:</th>          <td>  2768</td>      <th>  BIC:               </th>          <td>3.109e+04</td>\n",
       "</tr>\n",
       "<tr>\n",
       "  <th>Df Model:</th>              <td>    12</td>      <th>                     </th>              <td> </td>    \n",
       "</tr>\n",
       "<tr>\n",
       "  <th>Covariance Type:</th>      <td>nonrobust</td>    <th>                     </th>              <td> </td>    \n",
       "</tr>\n",
       "</table>\n",
       "<table class=\"simpletable\">\n",
       "<tr>\n",
       "                 <td></td>                   <th>coef</th>     <th>std err</th>      <th>t</th>      <th>P>|t|</th>  <th>[0.025</th>    <th>0.975]</th>  \n",
       "</tr>\n",
       "<tr>\n",
       "  <th>neighbourhood</th>                  <td>   14.4266</td> <td>    4.666</td> <td>    3.092</td> <td> 0.002</td> <td>    5.277</td> <td>   23.576</td>\n",
       "</tr>\n",
       "<tr>\n",
       "  <th>latitude</th>                       <td>  -34.2636</td> <td>    9.084</td> <td>   -3.772</td> <td> 0.000</td> <td>  -52.077</td> <td>  -16.451</td>\n",
       "</tr>\n",
       "<tr>\n",
       "  <th>longitude</th>                      <td>   -8.3370</td> <td>    7.755</td> <td>   -1.075</td> <td> 0.282</td> <td>  -23.542</td> <td>    6.868</td>\n",
       "</tr>\n",
       "<tr>\n",
       "  <th>room_type</th>                      <td>  186.2552</td> <td>    4.140</td> <td>   44.989</td> <td> 0.000</td> <td>  178.137</td> <td>  194.373</td>\n",
       "</tr>\n",
       "<tr>\n",
       "  <th>minimum_nights</th>                 <td> -194.9859</td> <td>   31.915</td> <td>   -6.110</td> <td> 0.000</td> <td> -257.565</td> <td> -132.407</td>\n",
       "</tr>\n",
       "<tr>\n",
       "  <th>number_of_reviews</th>              <td>  -63.0234</td> <td>   14.442</td> <td>   -4.364</td> <td> 0.000</td> <td>  -91.342</td> <td>  -34.705</td>\n",
       "</tr>\n",
       "<tr>\n",
       "  <th>reviews_per_month</th>              <td>   56.6598</td> <td>   18.223</td> <td>    3.109</td> <td> 0.002</td> <td>   20.928</td> <td>   92.392</td>\n",
       "</tr>\n",
       "<tr>\n",
       "  <th>calculated_host_listings_count</th> <td>  -19.7606</td> <td>    5.765</td> <td>   -3.428</td> <td> 0.001</td> <td>  -31.064</td> <td>   -8.457</td>\n",
       "</tr>\n",
       "<tr>\n",
       "  <th>availability_365</th>               <td>   34.4033</td> <td>    3.414</td> <td>   10.077</td> <td> 0.000</td> <td>   27.709</td> <td>   41.098</td>\n",
       "</tr>\n",
       "<tr>\n",
       "  <th>last_review_year</th>               <td>   -2.3363</td> <td>    6.176</td> <td>   -0.378</td> <td> 0.705</td> <td>  -14.446</td> <td>    9.773</td>\n",
       "</tr>\n",
       "<tr>\n",
       "  <th>last_review_month</th>              <td>   -0.0752</td> <td>    5.228</td> <td>   -0.014</td> <td> 0.989</td> <td>  -10.326</td> <td>   10.176</td>\n",
       "</tr>\n",
       "<tr>\n",
       "  <th>last_review_day</th>                <td>    4.4761</td> <td>    4.020</td> <td>    1.113</td> <td> 0.266</td> <td>   -3.407</td> <td>   12.359</td>\n",
       "</tr>\n",
       "</table>\n",
       "<table class=\"simpletable\">\n",
       "<tr>\n",
       "  <th>Omnibus:</th>       <td>402.799</td> <th>  Durbin-Watson:     </th> <td>   1.935</td> \n",
       "</tr>\n",
       "<tr>\n",
       "  <th>Prob(Omnibus):</th> <td> 0.000</td>  <th>  Jarque-Bera (JB):  </th> <td> 626.754</td> \n",
       "</tr>\n",
       "<tr>\n",
       "  <th>Skew:</th>          <td> 1.007</td>  <th>  Prob(JB):          </th> <td>7.98e-137</td>\n",
       "</tr>\n",
       "<tr>\n",
       "  <th>Kurtosis:</th>      <td> 4.163</td>  <th>  Cond. No.          </th> <td>    46.3</td> \n",
       "</tr>\n",
       "</table><br/><br/>Warnings:<br/>[1] Standard Errors assume that the covariance matrix of the errors is correctly specified."
      ],
      "text/plain": [
       "<class 'statsmodels.iolib.summary.Summary'>\n",
       "\"\"\"\n",
       "                                 OLS Regression Results                                \n",
       "=======================================================================================\n",
       "Dep. Variable:                  price   R-squared (uncentered):                   0.847\n",
       "Model:                            OLS   Adj. R-squared (uncentered):              0.846\n",
       "Method:                 Least Squares   F-statistic:                              1273.\n",
       "Date:                Sun, 14 Feb 2021   Prob (F-statistic):                        0.00\n",
       "Time:                        13:33:47   Log-Likelihood:                         -15496.\n",
       "No. Observations:                2780   AIC:                                  3.102e+04\n",
       "Df Residuals:                    2768   BIC:                                  3.109e+04\n",
       "Df Model:                          12                                                  \n",
       "Covariance Type:            nonrobust                                                  \n",
       "==================================================================================================\n",
       "                                     coef    std err          t      P>|t|      [0.025      0.975]\n",
       "--------------------------------------------------------------------------------------------------\n",
       "neighbourhood                     14.4266      4.666      3.092      0.002       5.277      23.576\n",
       "latitude                         -34.2636      9.084     -3.772      0.000     -52.077     -16.451\n",
       "longitude                         -8.3370      7.755     -1.075      0.282     -23.542       6.868\n",
       "room_type                        186.2552      4.140     44.989      0.000     178.137     194.373\n",
       "minimum_nights                  -194.9859     31.915     -6.110      0.000    -257.565    -132.407\n",
       "number_of_reviews                -63.0234     14.442     -4.364      0.000     -91.342     -34.705\n",
       "reviews_per_month                 56.6598     18.223      3.109      0.002      20.928      92.392\n",
       "calculated_host_listings_count   -19.7606      5.765     -3.428      0.001     -31.064      -8.457\n",
       "availability_365                  34.4033      3.414     10.077      0.000      27.709      41.098\n",
       "last_review_year                  -2.3363      6.176     -0.378      0.705     -14.446       9.773\n",
       "last_review_month                 -0.0752      5.228     -0.014      0.989     -10.326      10.176\n",
       "last_review_day                    4.4761      4.020      1.113      0.266      -3.407      12.359\n",
       "==============================================================================\n",
       "Omnibus:                      402.799   Durbin-Watson:                   1.935\n",
       "Prob(Omnibus):                  0.000   Jarque-Bera (JB):              626.754\n",
       "Skew:                           1.007   Prob(JB):                    7.98e-137\n",
       "Kurtosis:                       4.163   Cond. No.                         46.3\n",
       "==============================================================================\n",
       "\n",
       "Warnings:\n",
       "[1] Standard Errors assume that the covariance matrix of the errors is correctly specified.\n",
       "\"\"\""
      ]
     },
     "execution_count": 37,
     "metadata": {},
     "output_type": "execute_result"
    }
   ],
   "source": [
    "#drop if p value>0.05\n",
    "lm2 = sm.OLS(y_train, x_train).fit()\n",
    "# Summary statistics from the model\n",
    "lm2.summary()"
   ]
  },
  {
   "cell_type": "code",
   "execution_count": 38,
   "metadata": {},
   "outputs": [],
   "source": [
    "duplicate_abnb = abnb_data.copy()\n",
    "# Define Model Inputs (X) and Output (y)\n",
    "new_x = duplicate_abnb.drop(['last_review_day', 'last_review_month','last_review_year','longitude', 'price'], axis =1)\n",
    "new_y = duplicate_abnb[\"price\"]\n",
    "\n",
    "nx_train, nx_test, ny_train, ny_test = train_test_split(new_x, new_y, test_size=0.3, random_state = 4)"
   ]
  },
  {
   "cell_type": "code",
   "execution_count": 52,
   "metadata": {},
   "outputs": [
    {
     "name": "stdout",
     "output_type": "stream",
     "text": [
      "train_score:  [-61.11211288 -60.63057879 -58.7493925  -60.22881463 -57.37306083]\n",
      "test_score:  [-59.5276001  -57.15080567 -62.95383538 -60.56019601 -71.84173867]\n",
      "cross val training root mean_squared_error is: 59.618791925565304\n",
      "cross val testing root mean_squared_error is: 62.40683516808865\n"
     ]
    }
   ],
   "source": [
    "rf_new = RandomForestRegressor(\n",
    "    criterion = 'mse',\n",
    "    max_depth = 4, \n",
    "    min_samples_leaf= 100,\n",
    "    min_samples_split= 3, \n",
    "    n_estimators= 110,\n",
    "    n_jobs=-1,\n",
    "    random_state=5\n",
    "\n",
    ") \n",
    "rf_new.fit(nx_train,ny_train) \n",
    "rf_results  = cross_validate(rf_new, new_x, new_y, scoring='neg_root_mean_squared_error', cv=5, return_train_score = True)\n",
    "print('train_score: ', rf_results['train_score'])\n",
    "print('test_score: ', rf_results['test_score'])\n",
    "\n",
    "print('cross val training root mean_squared_error is:', sum(-rf_results['train_score'])/len(rf_results['train_score']))\n",
    "print('cross val testing root mean_squared_error is:', sum(-rf_results['test_score'])/len(rf_results['test_score']))"
   ]
  },
  {
   "cell_type": "code",
   "execution_count": 51,
   "metadata": {},
   "outputs": [
    {
     "name": "stdout",
     "output_type": "stream",
     "text": [
      "train_score:  [-59.91526047 -59.7529982  -57.69066122 -58.63845628 -55.79392763]\n",
      "test_score:  [-55.1937595  -56.36261113 -62.67153286 -59.54992537 -72.43538073]\n",
      "cross val training root mean_squared_error is: 58.358260759225104\n",
      "cross val testing root mean_squared_error is: 61.24264191632793\n"
     ]
    }
   ],
   "source": [
    "xgb_new = xgb.XGBRegressor(\n",
    "    colsample_bytree=1, \n",
    "    gamma=0.1,\n",
    "    learning_rate= 0.03,\n",
    "    max_depth= 3, \n",
    "    min_child_weight= 0.1, \n",
    "    subsample =  0.9,\n",
    "    objective = 'reg:squarederror',\n",
    "    random_state=4, n_jobs=-1, )\n",
    "\n",
    "xgb_new.fit(nx_train,ny_train)  \n",
    "xgb_results  = cross_validate(xgb_new, new_x, new_y, scoring='neg_root_mean_squared_error', cv=5, return_train_score = True)\n",
    "print('train_score: ', xgb_results['train_score'])\n",
    "print('test_score: ', xgb_results['test_score'])\n",
    "\n",
    "print('cross val training root mean_squared_error is:', sum(-xgb_results['train_score'])/len(xgb_results['train_score']))\n",
    "print('cross val testing root mean_squared_error is:', sum(-xgb_results['test_score'])/len(xgb_results['test_score']))"
   ]
  },
  {
   "cell_type": "code",
   "execution_count": 46,
   "metadata": {},
   "outputs": [
    {
     "name": "stdout",
     "output_type": "stream",
     "text": [
      "train_score:  [-66.39886971 -66.16706433 -64.95473174 -65.34504562 -62.79738629]\n",
      "test_score:  [-61.32030646 -59.93994438 -66.73875144 -66.39278823 -76.81404753]\n",
      "cross val training root mean_squared_error is: 65.13261953752516\n",
      "cross val testing root mean_squared_error is: 66.24116760833698\n"
     ]
    }
   ],
   "source": [
    "svr_new = svm.SVR(C=300, gamma=0.1, kernel='rbf')\n",
    "svr_new.fit(nx_train,ny_train)\n",
    "\n",
    "svr_results  = cross_validate(svr_new, new_x, new_y, scoring='neg_root_mean_squared_error', cv=5, return_train_score = True)\n",
    "print('train_score: ', svr_results['train_score'])\n",
    "print('test_score: ', svr_results['test_score'])\n",
    "\n",
    "print('cross val training root mean_squared_error is:', sum(-svr_results['train_score'])/len(svr_results['train_score']))\n",
    "print('cross val testing root mean_squared_error is:', sum(-svr_results['test_score'])/len(svr_results['test_score']))"
   ]
  },
  {
   "cell_type": "code",
   "execution_count": null,
   "metadata": {},
   "outputs": [],
   "source": []
  }
 ],
 "metadata": {
  "kernelspec": {
   "display_name": "Python 3",
   "language": "python",
   "name": "python3"
  },
  "language_info": {
   "codemirror_mode": {
    "name": "ipython",
    "version": 3
   },
   "file_extension": ".py",
   "mimetype": "text/x-python",
   "name": "python",
   "nbconvert_exporter": "python",
   "pygments_lexer": "ipython3",
   "version": "3.7.4"
  }
 },
 "nbformat": 4,
 "nbformat_minor": 2
}
